{
 "cells": [
  {
   "cell_type": "markdown",
   "id": "d50dcdf4",
   "metadata": {},
   "source": [
    "#### Importing required libraries"
   ]
  },
  {
   "cell_type": "code",
   "execution_count": 221,
   "id": "ca3ae949",
   "metadata": {},
   "outputs": [],
   "source": [
    "!pip install -U -q pdfplumber sentence-transformers"
   ]
  },
  {
   "cell_type": "code",
   "execution_count": 222,
   "id": "1407163d",
   "metadata": {},
   "outputs": [],
   "source": [
    "import pdfplumber\n",
    "import pandas as pd\n",
    "from operator import itemgetter"
   ]
  },
  {
   "cell_type": "markdown",
   "id": "f920627f",
   "metadata": {},
   "source": [
    "#### Reading PDF file"
   ]
  },
  {
   "cell_type": "code",
   "execution_count": 223,
   "id": "34a3507e",
   "metadata": {},
   "outputs": [
    {
     "name": "stdout",
     "output_type": "stream",
     "text": [
      "c:\\Users\\Lenovo\\Desktop\\Mr_HelpMate_AI\\Principal-Sample-Life-Insurance-Policy.pdf\n",
      "Exists: True\n"
     ]
    }
   ],
   "source": [
    "import os\n",
    "\n",
    "# Open the PDF file and print the text\n",
    "pdf_path = \"Principal-Sample-Life-Insurance-Policy.pdf\"\n",
    "print(os.path.abspath(pdf_path))\n",
    "print(\"Exists:\", os.path.isfile(pdf_path))"
   ]
  },
  {
   "cell_type": "code",
   "execution_count": 224,
   "id": "1f3084d2",
   "metadata": {},
   "outputs": [],
   "source": [
    "with pdfplumber.open(pdf_path) as pdf:\n",
    "\n",
    "    # Get one of the pages from the PDF and examine it\n",
    "    single_page = pdf.pages[0]\n",
    "\n",
    "    # Extract text from the first page\n",
    "    text = single_page.extract_text()\n",
    "\n",
    "    # Extract tables from the first page\n",
    "    tables = single_page.extract_tables()"
   ]
  },
  {
   "cell_type": "code",
   "execution_count": 225,
   "id": "078334be",
   "metadata": {},
   "outputs": [
    {
     "name": "stdout",
     "output_type": "stream",
     "text": [
      "DOROTHEA GLAUSE S655\n",
      "RHODE ISLAND JOHN DOE 01/01/2014\n",
      "711 HIGH STREET\n",
      "GEORGE RI 02903\n",
      "GROUP POLICY FOR:\n",
      "RHODE ISLAND JOHN DOE\n",
      "ALL MEMBERS\n",
      "Group Member Life Insurance\n",
      "Print Date: 07/16/2014\n"
     ]
    }
   ],
   "source": [
    "# Print the extracted text\n",
    "print(text)"
   ]
  },
  {
   "cell_type": "code",
   "execution_count": 226,
   "id": "23c0b8ba",
   "metadata": {},
   "outputs": [
    {
     "name": "stdout",
     "output_type": "stream",
     "text": [
      "[]\n"
     ]
    }
   ],
   "source": [
    "# Print the extracted table\n",
    "print(tables)"
   ]
  },
  {
   "cell_type": "code",
   "execution_count": 227,
   "id": "4d43b223",
   "metadata": {},
   "outputs": [],
   "source": [
    "# Function to check whether a word is present in a table or not for segregation of regular text and tables\n",
    "\n",
    "def check_bboxes(word, table_bbox):\n",
    "    # Check whether word is inside a table bbox.\n",
    "    l = word['x0'], word['top'], word['x1'], word['bottom']\n",
    "    r = table_bbox\n",
    "    return l[0] > r[0] and l[1] > r[1] and l[2] < r[2] and l[3] < r[3]"
   ]
  },
  {
   "cell_type": "code",
   "execution_count": 228,
   "id": "e61d2979",
   "metadata": {},
   "outputs": [],
   "source": [
    "# Function to extract text from a PDF file.\n",
    "\n",
    "def extract_text_from_pdf(pdf_path):\n",
    "    p = 0\n",
    "    full_text = []\n",
    "\n",
    "\n",
    "    with pdfplumber.open(pdf_path) as pdf:\n",
    "        for page in pdf.pages:\n",
    "            page_no = f\"Page {p+1}\"\n",
    "            text = page.extract_text()\n",
    "\n",
    "            tables = page.find_tables()\n",
    "            table_bboxes = [i.bbox for i in tables]\n",
    "            tables = [{'table': i.extract(), 'top': i.bbox[1]} for i in tables]\n",
    "            non_table_words = [word for word in page.extract_words() if not any(\n",
    "                [check_bboxes(word, table_bbox) for table_bbox in table_bboxes])]\n",
    "            lines = []\n",
    "\n",
    "            for cluster in pdfplumber.utils.cluster_objects(non_table_words + tables, itemgetter('top'), tolerance=5):\n",
    "\n",
    "                if 'text' in cluster[0]:\n",
    "                    try:\n",
    "                        lines.append(' '.join([i['text'] for i in cluster]))\n",
    "                    except KeyError:\n",
    "                        pass\n",
    "\n",
    "                elif 'table' in cluster[0]:\n",
    "                    lines.append(json.dumps(cluster[0]['table']))\n",
    "\n",
    "\n",
    "            full_text.append([page_no, \" \".join(lines)])\n",
    "            p +=1\n",
    "\n",
    "    return full_text"
   ]
  },
  {
   "cell_type": "code",
   "execution_count": 229,
   "id": "c224fafd",
   "metadata": {},
   "outputs": [
    {
     "name": "stdout",
     "output_type": "stream",
     "text": [
      "PDF have been processed.\n"
     ]
    }
   ],
   "source": [
    "# Initialize an empty list to store the extracted texts and document names\n",
    "data = []\n",
    "\n",
    "# Call the function to extract the text from the PDF\n",
    "extracted_text = extract_text_from_pdf(pdf_path)\n",
    "\n",
    "# Convert the extracted list to a PDF, and add a column to store document names\n",
    "extracted_text_df = pd.DataFrame(extracted_text, columns=['Page No.', 'Page_Text'])\n",
    "\n",
    "# Append the extracted text and document name to the list\n",
    "data.append(extracted_text_df)\n",
    "\n",
    "# Print a message to indicate all PDFs have been processed\n",
    "print(\"PDF have been processed.\")"
   ]
  },
  {
   "cell_type": "code",
   "execution_count": 230,
   "id": "35f24240",
   "metadata": {},
   "outputs": [
    {
     "data": {
      "text/plain": [
       "[   Page No.                                          Page_Text\n",
       "0    Page 1  DOROTHEA GLAUSE S655 RHODE ISLAND JOHN DOE 01/...\n",
       "1    Page 2                 This page left blank intentionally\n",
       "2    Page 3  POLICY RIDER GROUP INSURANCE POLICY NO: S655 C...\n",
       "3    Page 4                 This page left blank intentionally\n",
       "4    Page 5  PRINCIPAL LIFE INSURANCE COMPANY (called The P...\n",
       "..      ...                                                ...\n",
       "59  Page 60  I f a Dependent who was insured dies during th...\n",
       "60  Page 61  Section D - Claim Procedures Article 1 - Notic...\n",
       "61  Page 62  A claimant may request an appeal of a claim de...\n",
       "62  Page 63                 This page left blank intentionally\n",
       "63  Page 64  Principal Life Insurance Company Des Moines, I...\n",
       "\n",
       "[64 rows x 2 columns]]"
      ]
     },
     "execution_count": 230,
     "metadata": {},
     "output_type": "execute_result"
    }
   ],
   "source": [
    "data"
   ]
  },
  {
   "cell_type": "code",
   "execution_count": 231,
   "id": "cff358cb",
   "metadata": {},
   "outputs": [
    {
     "data": {
      "text/html": [
       "<div>\n",
       "<style scoped>\n",
       "    .dataframe tbody tr th:only-of-type {\n",
       "        vertical-align: middle;\n",
       "    }\n",
       "\n",
       "    .dataframe tbody tr th {\n",
       "        vertical-align: top;\n",
       "    }\n",
       "\n",
       "    .dataframe thead th {\n",
       "        text-align: right;\n",
       "    }\n",
       "</style>\n",
       "<table border=\"1\" class=\"dataframe\">\n",
       "  <thead>\n",
       "    <tr style=\"text-align: right;\">\n",
       "      <th></th>\n",
       "      <th>Page No.</th>\n",
       "      <th>Page_Text</th>\n",
       "    </tr>\n",
       "  </thead>\n",
       "  <tbody>\n",
       "    <tr>\n",
       "      <th>0</th>\n",
       "      <td>Page 1</td>\n",
       "      <td>DOROTHEA GLAUSE S655 RHODE ISLAND JOHN DOE 01/...</td>\n",
       "    </tr>\n",
       "    <tr>\n",
       "      <th>1</th>\n",
       "      <td>Page 2</td>\n",
       "      <td>This page left blank intentionally</td>\n",
       "    </tr>\n",
       "    <tr>\n",
       "      <th>2</th>\n",
       "      <td>Page 3</td>\n",
       "      <td>POLICY RIDER GROUP INSURANCE POLICY NO: S655 C...</td>\n",
       "    </tr>\n",
       "    <tr>\n",
       "      <th>3</th>\n",
       "      <td>Page 4</td>\n",
       "      <td>This page left blank intentionally</td>\n",
       "    </tr>\n",
       "    <tr>\n",
       "      <th>4</th>\n",
       "      <td>Page 5</td>\n",
       "      <td>PRINCIPAL LIFE INSURANCE COMPANY (called The P...</td>\n",
       "    </tr>\n",
       "    <tr>\n",
       "      <th>...</th>\n",
       "      <td>...</td>\n",
       "      <td>...</td>\n",
       "    </tr>\n",
       "    <tr>\n",
       "      <th>59</th>\n",
       "      <td>Page 60</td>\n",
       "      <td>I f a Dependent who was insured dies during th...</td>\n",
       "    </tr>\n",
       "    <tr>\n",
       "      <th>60</th>\n",
       "      <td>Page 61</td>\n",
       "      <td>Section D - Claim Procedures Article 1 - Notic...</td>\n",
       "    </tr>\n",
       "    <tr>\n",
       "      <th>61</th>\n",
       "      <td>Page 62</td>\n",
       "      <td>A claimant may request an appeal of a claim de...</td>\n",
       "    </tr>\n",
       "    <tr>\n",
       "      <th>62</th>\n",
       "      <td>Page 63</td>\n",
       "      <td>This page left blank intentionally</td>\n",
       "    </tr>\n",
       "    <tr>\n",
       "      <th>63</th>\n",
       "      <td>Page 64</td>\n",
       "      <td>Principal Life Insurance Company Des Moines, I...</td>\n",
       "    </tr>\n",
       "  </tbody>\n",
       "</table>\n",
       "<p>64 rows × 2 columns</p>\n",
       "</div>"
      ],
      "text/plain": [
       "   Page No.                                          Page_Text\n",
       "0    Page 1  DOROTHEA GLAUSE S655 RHODE ISLAND JOHN DOE 01/...\n",
       "1    Page 2                 This page left blank intentionally\n",
       "2    Page 3  POLICY RIDER GROUP INSURANCE POLICY NO: S655 C...\n",
       "3    Page 4                 This page left blank intentionally\n",
       "4    Page 5  PRINCIPAL LIFE INSURANCE COMPANY (called The P...\n",
       "..      ...                                                ...\n",
       "59  Page 60  I f a Dependent who was insured dies during th...\n",
       "60  Page 61  Section D - Claim Procedures Article 1 - Notic...\n",
       "61  Page 62  A claimant may request an appeal of a claim de...\n",
       "62  Page 63                 This page left blank intentionally\n",
       "63  Page 64  Principal Life Insurance Company Des Moines, I...\n",
       "\n",
       "[64 rows x 2 columns]"
      ]
     },
     "execution_count": 231,
     "metadata": {},
     "output_type": "execute_result"
    }
   ],
   "source": [
    "insurance_pdfs_data = pd.concat(data, ignore_index=True)\n",
    "insurance_pdfs_data"
   ]
  },
  {
   "cell_type": "code",
   "execution_count": 232,
   "id": "ed53f6f0",
   "metadata": {},
   "outputs": [
    {
     "data": {
      "text/html": [
       "<div>\n",
       "<style scoped>\n",
       "    .dataframe tbody tr th:only-of-type {\n",
       "        vertical-align: middle;\n",
       "    }\n",
       "\n",
       "    .dataframe tbody tr th {\n",
       "        vertical-align: top;\n",
       "    }\n",
       "\n",
       "    .dataframe thead th {\n",
       "        text-align: right;\n",
       "    }\n",
       "</style>\n",
       "<table border=\"1\" class=\"dataframe\">\n",
       "  <thead>\n",
       "    <tr style=\"text-align: right;\">\n",
       "      <th></th>\n",
       "      <th>Page No.</th>\n",
       "      <th>Page_Text</th>\n",
       "      <th>Metadata</th>\n",
       "    </tr>\n",
       "  </thead>\n",
       "  <tbody>\n",
       "    <tr>\n",
       "      <th>0</th>\n",
       "      <td>Page 1</td>\n",
       "      <td>DOROTHEA GLAUSE S655 RHODE ISLAND JOHN DOE 01/...</td>\n",
       "      <td>{'Page_No.': 'Page 1'}</td>\n",
       "    </tr>\n",
       "    <tr>\n",
       "      <th>1</th>\n",
       "      <td>Page 2</td>\n",
       "      <td>This page left blank intentionally</td>\n",
       "      <td>{'Page_No.': 'Page 2'}</td>\n",
       "    </tr>\n",
       "    <tr>\n",
       "      <th>2</th>\n",
       "      <td>Page 3</td>\n",
       "      <td>POLICY RIDER GROUP INSURANCE POLICY NO: S655 C...</td>\n",
       "      <td>{'Page_No.': 'Page 3'}</td>\n",
       "    </tr>\n",
       "    <tr>\n",
       "      <th>3</th>\n",
       "      <td>Page 4</td>\n",
       "      <td>This page left blank intentionally</td>\n",
       "      <td>{'Page_No.': 'Page 4'}</td>\n",
       "    </tr>\n",
       "    <tr>\n",
       "      <th>4</th>\n",
       "      <td>Page 5</td>\n",
       "      <td>PRINCIPAL LIFE INSURANCE COMPANY (called The P...</td>\n",
       "      <td>{'Page_No.': 'Page 5'}</td>\n",
       "    </tr>\n",
       "    <tr>\n",
       "      <th>...</th>\n",
       "      <td>...</td>\n",
       "      <td>...</td>\n",
       "      <td>...</td>\n",
       "    </tr>\n",
       "    <tr>\n",
       "      <th>59</th>\n",
       "      <td>Page 60</td>\n",
       "      <td>I f a Dependent who was insured dies during th...</td>\n",
       "      <td>{'Page_No.': 'Page 60'}</td>\n",
       "    </tr>\n",
       "    <tr>\n",
       "      <th>60</th>\n",
       "      <td>Page 61</td>\n",
       "      <td>Section D - Claim Procedures Article 1 - Notic...</td>\n",
       "      <td>{'Page_No.': 'Page 61'}</td>\n",
       "    </tr>\n",
       "    <tr>\n",
       "      <th>61</th>\n",
       "      <td>Page 62</td>\n",
       "      <td>A claimant may request an appeal of a claim de...</td>\n",
       "      <td>{'Page_No.': 'Page 62'}</td>\n",
       "    </tr>\n",
       "    <tr>\n",
       "      <th>62</th>\n",
       "      <td>Page 63</td>\n",
       "      <td>This page left blank intentionally</td>\n",
       "      <td>{'Page_No.': 'Page 63'}</td>\n",
       "    </tr>\n",
       "    <tr>\n",
       "      <th>63</th>\n",
       "      <td>Page 64</td>\n",
       "      <td>Principal Life Insurance Company Des Moines, I...</td>\n",
       "      <td>{'Page_No.': 'Page 64'}</td>\n",
       "    </tr>\n",
       "  </tbody>\n",
       "</table>\n",
       "<p>64 rows × 3 columns</p>\n",
       "</div>"
      ],
      "text/plain": [
       "   Page No.                                          Page_Text  \\\n",
       "0    Page 1  DOROTHEA GLAUSE S655 RHODE ISLAND JOHN DOE 01/...   \n",
       "1    Page 2                 This page left blank intentionally   \n",
       "2    Page 3  POLICY RIDER GROUP INSURANCE POLICY NO: S655 C...   \n",
       "3    Page 4                 This page left blank intentionally   \n",
       "4    Page 5  PRINCIPAL LIFE INSURANCE COMPANY (called The P...   \n",
       "..      ...                                                ...   \n",
       "59  Page 60  I f a Dependent who was insured dies during th...   \n",
       "60  Page 61  Section D - Claim Procedures Article 1 - Notic...   \n",
       "61  Page 62  A claimant may request an appeal of a claim de...   \n",
       "62  Page 63                 This page left blank intentionally   \n",
       "63  Page 64  Principal Life Insurance Company Des Moines, I...   \n",
       "\n",
       "                   Metadata  \n",
       "0    {'Page_No.': 'Page 1'}  \n",
       "1    {'Page_No.': 'Page 2'}  \n",
       "2    {'Page_No.': 'Page 3'}  \n",
       "3    {'Page_No.': 'Page 4'}  \n",
       "4    {'Page_No.': 'Page 5'}  \n",
       "..                      ...  \n",
       "59  {'Page_No.': 'Page 60'}  \n",
       "60  {'Page_No.': 'Page 61'}  \n",
       "61  {'Page_No.': 'Page 62'}  \n",
       "62  {'Page_No.': 'Page 63'}  \n",
       "63  {'Page_No.': 'Page 64'}  \n",
       "\n",
       "[64 rows x 3 columns]"
      ]
     },
     "execution_count": 232,
     "metadata": {},
     "output_type": "execute_result"
    }
   ],
   "source": [
    "# Store the metadata for each page in a separate column\n",
    "insurance_pdfs_data['Metadata'] = insurance_pdfs_data.apply(lambda x: {'Page_No.': x['Page No.']}, axis=1)\n",
    "insurance_pdfs_data"
   ]
  },
  {
   "cell_type": "code",
   "execution_count": 233,
   "id": "7aa90a39",
   "metadata": {},
   "outputs": [
    {
     "data": {
      "text/plain": [
       "'DOROTHEA GLAUSE S655 RHODE ISLAND JOHN DOE 01/01/2014 711 HIGH STREET GEORGE RI 02903 GROUP POLICY FOR: RHODE ISLAND JOHN DOE ALL MEMBERS Group Member Life Insurance Print Date: 07/16/2014'"
      ]
     },
     "execution_count": 233,
     "metadata": {},
     "output_type": "execute_result"
    }
   ],
   "source": [
    "insurance_pdfs_data.Page_Text[0]"
   ]
  },
  {
   "cell_type": "code",
   "execution_count": 234,
   "id": "2251d7b4",
   "metadata": {},
   "outputs": [],
   "source": [
    "# Let's also check the length of all the texts as there might be some empty pages or pages with very few words that we can drop\n",
    "insurance_pdfs_data['Text_Length'] = insurance_pdfs_data['Page_Text'].apply(lambda x: len(x.split(' ')))"
   ]
  },
  {
   "cell_type": "code",
   "execution_count": 235,
   "id": "1de47028",
   "metadata": {},
   "outputs": [
    {
     "data": {
      "text/plain": [
       "0      30\n",
       "1       5\n",
       "2     230\n",
       "3       5\n",
       "4     110\n",
       "     ... \n",
       "59    285\n",
       "60    418\n",
       "61    322\n",
       "62      5\n",
       "63      8\n",
       "Name: Text_Length, Length: 64, dtype: int64"
      ]
     },
     "execution_count": 235,
     "metadata": {},
     "output_type": "execute_result"
    }
   ],
   "source": [
    "insurance_pdfs_data['Text_Length']"
   ]
  },
  {
   "cell_type": "code",
   "execution_count": 236,
   "id": "e2fd4ef1",
   "metadata": {},
   "outputs": [
    {
     "data": {
      "text/html": [
       "<div>\n",
       "<style scoped>\n",
       "    .dataframe tbody tr th:only-of-type {\n",
       "        vertical-align: middle;\n",
       "    }\n",
       "\n",
       "    .dataframe tbody tr th {\n",
       "        vertical-align: top;\n",
       "    }\n",
       "\n",
       "    .dataframe thead th {\n",
       "        text-align: right;\n",
       "    }\n",
       "</style>\n",
       "<table border=\"1\" class=\"dataframe\">\n",
       "  <thead>\n",
       "    <tr style=\"text-align: right;\">\n",
       "      <th></th>\n",
       "      <th>Page No.</th>\n",
       "      <th>Page_Text</th>\n",
       "      <th>Metadata</th>\n",
       "      <th>Text_Length</th>\n",
       "    </tr>\n",
       "  </thead>\n",
       "  <tbody>\n",
       "    <tr>\n",
       "      <th>0</th>\n",
       "      <td>Page 1</td>\n",
       "      <td>DOROTHEA GLAUSE S655 RHODE ISLAND JOHN DOE 01/...</td>\n",
       "      <td>{'Page_No.': 'Page 1'}</td>\n",
       "      <td>30</td>\n",
       "    </tr>\n",
       "    <tr>\n",
       "      <th>1</th>\n",
       "      <td>Page 2</td>\n",
       "      <td>This page left blank intentionally</td>\n",
       "      <td>{'Page_No.': 'Page 2'}</td>\n",
       "      <td>5</td>\n",
       "    </tr>\n",
       "    <tr>\n",
       "      <th>2</th>\n",
       "      <td>Page 3</td>\n",
       "      <td>POLICY RIDER GROUP INSURANCE POLICY NO: S655 C...</td>\n",
       "      <td>{'Page_No.': 'Page 3'}</td>\n",
       "      <td>230</td>\n",
       "    </tr>\n",
       "    <tr>\n",
       "      <th>3</th>\n",
       "      <td>Page 4</td>\n",
       "      <td>This page left blank intentionally</td>\n",
       "      <td>{'Page_No.': 'Page 4'}</td>\n",
       "      <td>5</td>\n",
       "    </tr>\n",
       "    <tr>\n",
       "      <th>4</th>\n",
       "      <td>Page 5</td>\n",
       "      <td>PRINCIPAL LIFE INSURANCE COMPANY (called The P...</td>\n",
       "      <td>{'Page_No.': 'Page 5'}</td>\n",
       "      <td>110</td>\n",
       "    </tr>\n",
       "    <tr>\n",
       "      <th>...</th>\n",
       "      <td>...</td>\n",
       "      <td>...</td>\n",
       "      <td>...</td>\n",
       "      <td>...</td>\n",
       "    </tr>\n",
       "    <tr>\n",
       "      <th>59</th>\n",
       "      <td>Page 60</td>\n",
       "      <td>I f a Dependent who was insured dies during th...</td>\n",
       "      <td>{'Page_No.': 'Page 60'}</td>\n",
       "      <td>285</td>\n",
       "    </tr>\n",
       "    <tr>\n",
       "      <th>60</th>\n",
       "      <td>Page 61</td>\n",
       "      <td>Section D - Claim Procedures Article 1 - Notic...</td>\n",
       "      <td>{'Page_No.': 'Page 61'}</td>\n",
       "      <td>418</td>\n",
       "    </tr>\n",
       "    <tr>\n",
       "      <th>61</th>\n",
       "      <td>Page 62</td>\n",
       "      <td>A claimant may request an appeal of a claim de...</td>\n",
       "      <td>{'Page_No.': 'Page 62'}</td>\n",
       "      <td>322</td>\n",
       "    </tr>\n",
       "    <tr>\n",
       "      <th>62</th>\n",
       "      <td>Page 63</td>\n",
       "      <td>This page left blank intentionally</td>\n",
       "      <td>{'Page_No.': 'Page 63'}</td>\n",
       "      <td>5</td>\n",
       "    </tr>\n",
       "    <tr>\n",
       "      <th>63</th>\n",
       "      <td>Page 64</td>\n",
       "      <td>Principal Life Insurance Company Des Moines, I...</td>\n",
       "      <td>{'Page_No.': 'Page 64'}</td>\n",
       "      <td>8</td>\n",
       "    </tr>\n",
       "  </tbody>\n",
       "</table>\n",
       "<p>64 rows × 4 columns</p>\n",
       "</div>"
      ],
      "text/plain": [
       "   Page No.                                          Page_Text  \\\n",
       "0    Page 1  DOROTHEA GLAUSE S655 RHODE ISLAND JOHN DOE 01/...   \n",
       "1    Page 2                 This page left blank intentionally   \n",
       "2    Page 3  POLICY RIDER GROUP INSURANCE POLICY NO: S655 C...   \n",
       "3    Page 4                 This page left blank intentionally   \n",
       "4    Page 5  PRINCIPAL LIFE INSURANCE COMPANY (called The P...   \n",
       "..      ...                                                ...   \n",
       "59  Page 60  I f a Dependent who was insured dies during th...   \n",
       "60  Page 61  Section D - Claim Procedures Article 1 - Notic...   \n",
       "61  Page 62  A claimant may request an appeal of a claim de...   \n",
       "62  Page 63                 This page left blank intentionally   \n",
       "63  Page 64  Principal Life Insurance Company Des Moines, I...   \n",
       "\n",
       "                   Metadata  Text_Length  \n",
       "0    {'Page_No.': 'Page 1'}           30  \n",
       "1    {'Page_No.': 'Page 2'}            5  \n",
       "2    {'Page_No.': 'Page 3'}          230  \n",
       "3    {'Page_No.': 'Page 4'}            5  \n",
       "4    {'Page_No.': 'Page 5'}          110  \n",
       "..                      ...          ...  \n",
       "59  {'Page_No.': 'Page 60'}          285  \n",
       "60  {'Page_No.': 'Page 61'}          418  \n",
       "61  {'Page_No.': 'Page 62'}          322  \n",
       "62  {'Page_No.': 'Page 63'}            5  \n",
       "63  {'Page_No.': 'Page 64'}            8  \n",
       "\n",
       "[64 rows x 4 columns]"
      ]
     },
     "execution_count": 236,
     "metadata": {},
     "output_type": "execute_result"
    }
   ],
   "source": [
    "insurance_pdfs_data"
   ]
  },
  {
   "cell_type": "markdown",
   "id": "11b6915f",
   "metadata": {},
   "source": [
    "#### Creating Chunks"
   ]
  },
  {
   "cell_type": "code",
   "execution_count": 237,
   "id": "ce485c40",
   "metadata": {},
   "outputs": [],
   "source": [
    "# Function to split text into fixed-size chunks\n",
    "def split_text_into_chunks(text, chunk_size):\n",
    "    chunks = []\n",
    "    words = text.split()  # Split the text into words\n",
    "\n",
    "    current_chunk = []  # Store words for the current chunk\n",
    "    current_chunk_word_count = 0  # Count of words in the current chunk\n",
    "\n",
    "    for word in words:\n",
    "        if current_chunk_word_count + len(word) + 1 <= chunk_size:\n",
    "            current_chunk.append(word)\n",
    "            current_chunk_word_count += len(word) + 1\n",
    "        else:\n",
    "            chunks.append(' '.join(current_chunk))\n",
    "            current_chunk = [word]\n",
    "            current_chunk_word_count = len(word)\n",
    "\n",
    "    if current_chunk:\n",
    "        chunks.append(' '.join(current_chunk))\n",
    "\n",
    "    return chunks"
   ]
  },
  {
   "cell_type": "code",
   "execution_count": 238,
   "id": "afba6f70",
   "metadata": {},
   "outputs": [],
   "source": [
    "def process_page(page_no):\n",
    "    page = insurance_pdfs_data[insurance_pdfs_data['Page No.'] == page_no].Page_Text.values[0]\n",
    "    metadata = insurance_pdfs_data[insurance_pdfs_data['Page No.'] == page_no].Metadata.values[0]\n",
    "\n",
    "    if page is not None:\n",
    "        # setting chunk size as 500\n",
    "        chunk_size = 500\n",
    "        text_chunks = split_text_into_chunks(page, chunk_size)\n",
    "\n",
    "        # Creating a DataFrame to store the chunks, page title and page metadata\n",
    "        data = {'Title': [], 'Chunk Text': [], 'Metadata': []}\n",
    "\n",
    "        for index, chunk in enumerate(text_chunks):\n",
    "            data['Title'].append(page_no)\n",
    "            data['Chunk Text'].append(chunk)\n",
    "            # adding chunk no as part of metadata\n",
    "            metadata['Chunk_No.'] = index\n",
    "            data['Metadata'].append(metadata)\n",
    "\n",
    "        return pd.DataFrame(data)"
   ]
  },
  {
   "cell_type": "code",
   "execution_count": 239,
   "id": "9ce3c206",
   "metadata": {},
   "outputs": [],
   "source": [
    "page_nos = insurance_pdfs_data[\"Page No.\"]"
   ]
  },
  {
   "cell_type": "code",
   "execution_count": 240,
   "id": "2b3c65fe",
   "metadata": {},
   "outputs": [
    {
     "data": {
      "text/html": [
       "<div>\n",
       "<style scoped>\n",
       "    .dataframe tbody tr th:only-of-type {\n",
       "        vertical-align: middle;\n",
       "    }\n",
       "\n",
       "    .dataframe tbody tr th {\n",
       "        vertical-align: top;\n",
       "    }\n",
       "\n",
       "    .dataframe thead th {\n",
       "        text-align: right;\n",
       "    }\n",
       "</style>\n",
       "<table border=\"1\" class=\"dataframe\">\n",
       "  <thead>\n",
       "    <tr style=\"text-align: right;\">\n",
       "      <th></th>\n",
       "      <th>Title</th>\n",
       "      <th>Chunk Text</th>\n",
       "      <th>Metadata</th>\n",
       "    </tr>\n",
       "  </thead>\n",
       "  <tbody>\n",
       "    <tr>\n",
       "      <th>0</th>\n",
       "      <td>Page 1</td>\n",
       "      <td>DOROTHEA GLAUSE S655 RHODE ISLAND JOHN DOE 01/...</td>\n",
       "      <td>{'Page_No.': 'Page 1', 'Chunk_No.': 0}</td>\n",
       "    </tr>\n",
       "    <tr>\n",
       "      <th>1</th>\n",
       "      <td>Page 2</td>\n",
       "      <td>This page left blank intentionally</td>\n",
       "      <td>{'Page_No.': 'Page 2', 'Chunk_No.': 0}</td>\n",
       "    </tr>\n",
       "    <tr>\n",
       "      <th>2</th>\n",
       "      <td>Page 3</td>\n",
       "      <td>POLICY RIDER GROUP INSURANCE POLICY NO: S655 C...</td>\n",
       "      <td>{'Page_No.': 'Page 3', 'Chunk_No.': 2}</td>\n",
       "    </tr>\n",
       "    <tr>\n",
       "      <th>3</th>\n",
       "      <td>Page 3</td>\n",
       "      <td>arrange for third party service providers (i.e...</td>\n",
       "      <td>{'Page_No.': 'Page 3', 'Chunk_No.': 2}</td>\n",
       "    </tr>\n",
       "    <tr>\n",
       "      <th>4</th>\n",
       "      <td>Page 3</td>\n",
       "      <td>the provision of such goods and/or services no...</td>\n",
       "      <td>{'Page_No.': 'Page 3', 'Chunk_No.': 2}</td>\n",
       "    </tr>\n",
       "    <tr>\n",
       "      <th>...</th>\n",
       "      <td>...</td>\n",
       "      <td>...</td>\n",
       "      <td>...</td>\n",
       "    </tr>\n",
       "    <tr>\n",
       "      <th>226</th>\n",
       "      <td>Page 62</td>\n",
       "      <td>requested additional information, The Principa...</td>\n",
       "      <td>{'Page_No.': 'Page 62', 'Chunk_No.': 3}</td>\n",
       "    </tr>\n",
       "    <tr>\n",
       "      <th>227</th>\n",
       "      <td>Page 62</td>\n",
       "      <td>may have the Member or Dependent whose loss is...</td>\n",
       "      <td>{'Page_No.': 'Page 62', 'Chunk_No.': 3}</td>\n",
       "    </tr>\n",
       "    <tr>\n",
       "      <th>228</th>\n",
       "      <td>Page 62</td>\n",
       "      <td>proof of loss has been filed and before the ap...</td>\n",
       "      <td>{'Page_No.': 'Page 62', 'Chunk_No.': 3}</td>\n",
       "    </tr>\n",
       "    <tr>\n",
       "      <th>229</th>\n",
       "      <td>Page 63</td>\n",
       "      <td>This page left blank intentionally</td>\n",
       "      <td>{'Page_No.': 'Page 63', 'Chunk_No.': 0}</td>\n",
       "    </tr>\n",
       "    <tr>\n",
       "      <th>230</th>\n",
       "      <td>Page 64</td>\n",
       "      <td>Principal Life Insurance Company Des Moines, I...</td>\n",
       "      <td>{'Page_No.': 'Page 64', 'Chunk_No.': 0}</td>\n",
       "    </tr>\n",
       "  </tbody>\n",
       "</table>\n",
       "<p>231 rows × 3 columns</p>\n",
       "</div>"
      ],
      "text/plain": [
       "       Title                                         Chunk Text  \\\n",
       "0     Page 1  DOROTHEA GLAUSE S655 RHODE ISLAND JOHN DOE 01/...   \n",
       "1     Page 2                 This page left blank intentionally   \n",
       "2     Page 3  POLICY RIDER GROUP INSURANCE POLICY NO: S655 C...   \n",
       "3     Page 3  arrange for third party service providers (i.e...   \n",
       "4     Page 3  the provision of such goods and/or services no...   \n",
       "..       ...                                                ...   \n",
       "226  Page 62  requested additional information, The Principa...   \n",
       "227  Page 62  may have the Member or Dependent whose loss is...   \n",
       "228  Page 62  proof of loss has been filed and before the ap...   \n",
       "229  Page 63                 This page left blank intentionally   \n",
       "230  Page 64  Principal Life Insurance Company Des Moines, I...   \n",
       "\n",
       "                                    Metadata  \n",
       "0     {'Page_No.': 'Page 1', 'Chunk_No.': 0}  \n",
       "1     {'Page_No.': 'Page 2', 'Chunk_No.': 0}  \n",
       "2     {'Page_No.': 'Page 3', 'Chunk_No.': 2}  \n",
       "3     {'Page_No.': 'Page 3', 'Chunk_No.': 2}  \n",
       "4     {'Page_No.': 'Page 3', 'Chunk_No.': 2}  \n",
       "..                                       ...  \n",
       "226  {'Page_No.': 'Page 62', 'Chunk_No.': 3}  \n",
       "227  {'Page_No.': 'Page 62', 'Chunk_No.': 3}  \n",
       "228  {'Page_No.': 'Page 62', 'Chunk_No.': 3}  \n",
       "229  {'Page_No.': 'Page 63', 'Chunk_No.': 0}  \n",
       "230  {'Page_No.': 'Page 64', 'Chunk_No.': 0}  \n",
       "\n",
       "[231 rows x 3 columns]"
      ]
     },
     "execution_count": 240,
     "metadata": {},
     "output_type": "execute_result"
    }
   ],
   "source": [
    "# creating a dataframe after calling process\n",
    "all_dfs = []\n",
    "for page_no in page_nos:\n",
    "    df = process_page(page_no)\n",
    "    if df is not None:\n",
    "        all_dfs.append(df)\n",
    "\n",
    "fixed_chunk_df = pd.concat(all_dfs, ignore_index=True)\n",
    "fixed_chunk_df"
   ]
  },
  {
   "cell_type": "markdown",
   "id": "60cbe14a",
   "metadata": {},
   "source": [
    "#### Generating embeddings"
   ]
  },
  {
   "cell_type": "code",
   "execution_count": 241,
   "id": "c63bea14",
   "metadata": {},
   "outputs": [
    {
     "name": "stderr",
     "output_type": "stream",
     "text": [
      "\n",
      "Usage:   \n",
      "  pip install [options] <requirement specifier> [package-index-options] ...\n",
      "  pip install [options] -r <requirements file> [package-index-options] ...\n",
      "  pip install [options] [-e] <vcs project url> ...\n",
      "  pip install [options] [-e] <local project path> ...\n",
      "  pip install [options] <archive url/path> ...\n",
      "\n",
      "no such option: -u\n"
     ]
    }
   ],
   "source": [
    "# Install the sentence transformers library\n",
    "!pip install -q -u sentence-transformers"
   ]
  },
  {
   "cell_type": "code",
   "execution_count": 242,
   "id": "ebb67017",
   "metadata": {},
   "outputs": [],
   "source": [
    "# From sentence_transformers import SentenceTransformer\n",
    "from chromadb.utils.embedding_functions import SentenceTransformerEmbeddingFunction\n"
   ]
  },
  {
   "cell_type": "code",
   "execution_count": 243,
   "id": "4b8d2579",
   "metadata": {},
   "outputs": [],
   "source": [
    "# Load the embedding model\n",
    "embedding_function = SentenceTransformerEmbeddingFunction(model_name=\"all-MiniLM-L6-v2\")\n"
   ]
  },
  {
   "cell_type": "code",
   "execution_count": 244,
   "id": "f57b4f06",
   "metadata": {},
   "outputs": [],
   "source": [
    "# Function to generate embeddings for text\n",
    "def generate_embeddings(texts):\n",
    "    embeddings = embedding_function(texts)\n",
    "    return embeddings"
   ]
  },
  {
   "cell_type": "code",
   "execution_count": 245,
   "id": "34cc18b5",
   "metadata": {},
   "outputs": [],
   "source": [
    "# Function to generate embedding on dataframe\n",
    "def generate_embeddings_on_df(df):\n",
    "  df['Embeddings'] = df['Chunk Text'].apply(lambda x: generate_embeddings([x])[0])"
   ]
  },
  {
   "cell_type": "code",
   "execution_count": 246,
   "id": "cfa43f5a",
   "metadata": {},
   "outputs": [],
   "source": [
    "# Create embeddings for 'Chunk Text' column on all three dataframes\n",
    "generate_embeddings_on_df(fixed_chunk_df)"
   ]
  },
  {
   "cell_type": "code",
   "execution_count": 247,
   "id": "5bc967dd",
   "metadata": {},
   "outputs": [
    {
     "data": {
      "text/html": [
       "<div>\n",
       "<style scoped>\n",
       "    .dataframe tbody tr th:only-of-type {\n",
       "        vertical-align: middle;\n",
       "    }\n",
       "\n",
       "    .dataframe tbody tr th {\n",
       "        vertical-align: top;\n",
       "    }\n",
       "\n",
       "    .dataframe thead th {\n",
       "        text-align: right;\n",
       "    }\n",
       "</style>\n",
       "<table border=\"1\" class=\"dataframe\">\n",
       "  <thead>\n",
       "    <tr style=\"text-align: right;\">\n",
       "      <th></th>\n",
       "      <th>Title</th>\n",
       "      <th>Chunk Text</th>\n",
       "      <th>Metadata</th>\n",
       "      <th>Embeddings</th>\n",
       "    </tr>\n",
       "  </thead>\n",
       "  <tbody>\n",
       "    <tr>\n",
       "      <th>0</th>\n",
       "      <td>Page 1</td>\n",
       "      <td>DOROTHEA GLAUSE S655 RHODE ISLAND JOHN DOE 01/...</td>\n",
       "      <td>{'Page_No.': 'Page 1', 'Chunk_No.': 0}</td>\n",
       "      <td>[-0.025921918, 0.047777485, 0.05585774, 0.0423...</td>\n",
       "    </tr>\n",
       "    <tr>\n",
       "      <th>1</th>\n",
       "      <td>Page 2</td>\n",
       "      <td>This page left blank intentionally</td>\n",
       "      <td>{'Page_No.': 'Page 2', 'Chunk_No.': 0}</td>\n",
       "      <td>[0.029118938, 0.06057411, 0.04641532, 0.037792...</td>\n",
       "    </tr>\n",
       "    <tr>\n",
       "      <th>2</th>\n",
       "      <td>Page 3</td>\n",
       "      <td>POLICY RIDER GROUP INSURANCE POLICY NO: S655 C...</td>\n",
       "      <td>{'Page_No.': 'Page 3', 'Chunk_No.': 2}</td>\n",
       "      <td>[-0.06453799, 0.043197103, -8.384172e-05, -0.0...</td>\n",
       "    </tr>\n",
       "    <tr>\n",
       "      <th>3</th>\n",
       "      <td>Page 3</td>\n",
       "      <td>arrange for third party service providers (i.e...</td>\n",
       "      <td>{'Page_No.': 'Page 3', 'Chunk_No.': 2}</td>\n",
       "      <td>[-0.10200984, -0.028467676, -0.02056504, -0.04...</td>\n",
       "    </tr>\n",
       "    <tr>\n",
       "      <th>4</th>\n",
       "      <td>Page 3</td>\n",
       "      <td>the provision of such goods and/or services no...</td>\n",
       "      <td>{'Page_No.': 'Page 3', 'Chunk_No.': 2}</td>\n",
       "      <td>[-0.09000838, 0.076582074, 0.0049276566, -0.08...</td>\n",
       "    </tr>\n",
       "    <tr>\n",
       "      <th>...</th>\n",
       "      <td>...</td>\n",
       "      <td>...</td>\n",
       "      <td>...</td>\n",
       "      <td>...</td>\n",
       "    </tr>\n",
       "    <tr>\n",
       "      <th>226</th>\n",
       "      <td>Page 62</td>\n",
       "      <td>requested additional information, The Principa...</td>\n",
       "      <td>{'Page_No.': 'Page 62', 'Chunk_No.': 3}</td>\n",
       "      <td>[-0.047671925, 0.11277697, 0.06906492, -0.0508...</td>\n",
       "    </tr>\n",
       "    <tr>\n",
       "      <th>227</th>\n",
       "      <td>Page 62</td>\n",
       "      <td>may have the Member or Dependent whose loss is...</td>\n",
       "      <td>{'Page_No.': 'Page 62', 'Chunk_No.': 3}</td>\n",
       "      <td>[-0.079419956, 0.14404444, 0.03187609, -0.0655...</td>\n",
       "    </tr>\n",
       "    <tr>\n",
       "      <th>228</th>\n",
       "      <td>Page 62</td>\n",
       "      <td>proof of loss has been filed and before the ap...</td>\n",
       "      <td>{'Page_No.': 'Page 62', 'Chunk_No.': 3}</td>\n",
       "      <td>[-0.14206006, 0.1236838, 0.120924726, -0.01142...</td>\n",
       "    </tr>\n",
       "    <tr>\n",
       "      <th>229</th>\n",
       "      <td>Page 63</td>\n",
       "      <td>This page left blank intentionally</td>\n",
       "      <td>{'Page_No.': 'Page 63', 'Chunk_No.': 0}</td>\n",
       "      <td>[0.029118938, 0.06057411, 0.04641532, 0.037792...</td>\n",
       "    </tr>\n",
       "    <tr>\n",
       "      <th>230</th>\n",
       "      <td>Page 64</td>\n",
       "      <td>Principal Life Insurance Company Des Moines, I...</td>\n",
       "      <td>{'Page_No.': 'Page 64', 'Chunk_No.': 0}</td>\n",
       "      <td>[-0.0710454, 0.117299736, -0.021952925, -0.035...</td>\n",
       "    </tr>\n",
       "  </tbody>\n",
       "</table>\n",
       "<p>231 rows × 4 columns</p>\n",
       "</div>"
      ],
      "text/plain": [
       "       Title                                         Chunk Text  \\\n",
       "0     Page 1  DOROTHEA GLAUSE S655 RHODE ISLAND JOHN DOE 01/...   \n",
       "1     Page 2                 This page left blank intentionally   \n",
       "2     Page 3  POLICY RIDER GROUP INSURANCE POLICY NO: S655 C...   \n",
       "3     Page 3  arrange for third party service providers (i.e...   \n",
       "4     Page 3  the provision of such goods and/or services no...   \n",
       "..       ...                                                ...   \n",
       "226  Page 62  requested additional information, The Principa...   \n",
       "227  Page 62  may have the Member or Dependent whose loss is...   \n",
       "228  Page 62  proof of loss has been filed and before the ap...   \n",
       "229  Page 63                 This page left blank intentionally   \n",
       "230  Page 64  Principal Life Insurance Company Des Moines, I...   \n",
       "\n",
       "                                    Metadata  \\\n",
       "0     {'Page_No.': 'Page 1', 'Chunk_No.': 0}   \n",
       "1     {'Page_No.': 'Page 2', 'Chunk_No.': 0}   \n",
       "2     {'Page_No.': 'Page 3', 'Chunk_No.': 2}   \n",
       "3     {'Page_No.': 'Page 3', 'Chunk_No.': 2}   \n",
       "4     {'Page_No.': 'Page 3', 'Chunk_No.': 2}   \n",
       "..                                       ...   \n",
       "226  {'Page_No.': 'Page 62', 'Chunk_No.': 3}   \n",
       "227  {'Page_No.': 'Page 62', 'Chunk_No.': 3}   \n",
       "228  {'Page_No.': 'Page 62', 'Chunk_No.': 3}   \n",
       "229  {'Page_No.': 'Page 63', 'Chunk_No.': 0}   \n",
       "230  {'Page_No.': 'Page 64', 'Chunk_No.': 0}   \n",
       "\n",
       "                                            Embeddings  \n",
       "0    [-0.025921918, 0.047777485, 0.05585774, 0.0423...  \n",
       "1    [0.029118938, 0.06057411, 0.04641532, 0.037792...  \n",
       "2    [-0.06453799, 0.043197103, -8.384172e-05, -0.0...  \n",
       "3    [-0.10200984, -0.028467676, -0.02056504, -0.04...  \n",
       "4    [-0.09000838, 0.076582074, 0.0049276566, -0.08...  \n",
       "..                                                 ...  \n",
       "226  [-0.047671925, 0.11277697, 0.06906492, -0.0508...  \n",
       "227  [-0.079419956, 0.14404444, 0.03187609, -0.0655...  \n",
       "228  [-0.14206006, 0.1236838, 0.120924726, -0.01142...  \n",
       "229  [0.029118938, 0.06057411, 0.04641532, 0.037792...  \n",
       "230  [-0.0710454, 0.117299736, -0.021952925, -0.035...  \n",
       "\n",
       "[231 rows x 4 columns]"
      ]
     },
     "execution_count": 247,
     "metadata": {},
     "output_type": "execute_result"
    }
   ],
   "source": [
    "# print the dataframe\n",
    "fixed_chunk_df"
   ]
  },
  {
   "cell_type": "markdown",
   "id": "713da527",
   "metadata": {},
   "source": [
    "#### Storing embeddings in ChromaDB"
   ]
  },
  {
   "cell_type": "code",
   "execution_count": 248,
   "id": "77440014",
   "metadata": {},
   "outputs": [
    {
     "name": "stdout",
     "output_type": "stream",
     "text": [
      "Requirement already satisfied: chromadb in c:\\users\\lenovo\\anaconda3\\lib\\site-packages (1.1.0)\n",
      "Requirement already satisfied: build>=1.0.3 in c:\\users\\lenovo\\anaconda3\\lib\\site-packages (from chromadb) (1.3.0)\n",
      "Requirement already satisfied: pydantic>=1.9 in c:\\users\\lenovo\\anaconda3\\lib\\site-packages (from chromadb) (2.8.2)\n",
      "Requirement already satisfied: pybase64>=1.4.1 in c:\\users\\lenovo\\anaconda3\\lib\\site-packages (from chromadb) (1.4.2)\n",
      "Requirement already satisfied: uvicorn>=0.18.3 in c:\\users\\lenovo\\anaconda3\\lib\\site-packages (from uvicorn[standard]>=0.18.3->chromadb) (0.37.0)\n",
      "Requirement already satisfied: numpy>=1.22.5 in c:\\users\\lenovo\\anaconda3\\lib\\site-packages (from chromadb) (1.26.4)\n",
      "Requirement already satisfied: posthog<6.0.0,>=2.4.0 in c:\\users\\lenovo\\anaconda3\\lib\\site-packages (from chromadb) (5.4.0)\n",
      "Requirement already satisfied: typing-extensions>=4.5.0 in c:\\users\\lenovo\\anaconda3\\lib\\site-packages (from chromadb) (4.15.0)\n",
      "Requirement already satisfied: onnxruntime>=1.14.1 in c:\\users\\lenovo\\anaconda3\\lib\\site-packages (from chromadb) (1.23.0)\n",
      "Requirement already satisfied: opentelemetry-api>=1.2.0 in c:\\users\\lenovo\\anaconda3\\lib\\site-packages (from chromadb) (1.37.0)\n",
      "Requirement already satisfied: opentelemetry-exporter-otlp-proto-grpc>=1.2.0 in c:\\users\\lenovo\\anaconda3\\lib\\site-packages (from chromadb) (1.37.0)\n",
      "Requirement already satisfied: opentelemetry-sdk>=1.2.0 in c:\\users\\lenovo\\anaconda3\\lib\\site-packages (from chromadb) (1.37.0)\n",
      "Requirement already satisfied: tokenizers>=0.13.2 in c:\\users\\lenovo\\anaconda3\\lib\\site-packages (from chromadb) (0.22.1)\n",
      "Requirement already satisfied: pypika>=0.48.9 in c:\\users\\lenovo\\anaconda3\\lib\\site-packages (from chromadb) (0.48.9)\n",
      "Requirement already satisfied: tqdm>=4.65.0 in c:\\users\\lenovo\\anaconda3\\lib\\site-packages (from chromadb) (4.66.5)\n",
      "Requirement already satisfied: overrides>=7.3.1 in c:\\users\\lenovo\\anaconda3\\lib\\site-packages (from chromadb) (7.4.0)\n",
      "Requirement already satisfied: importlib-resources in c:\\users\\lenovo\\anaconda3\\lib\\site-packages (from chromadb) (6.5.2)\n",
      "Requirement already satisfied: grpcio>=1.58.0 in c:\\users\\lenovo\\anaconda3\\lib\\site-packages (from chromadb) (1.75.1)\n",
      "Requirement already satisfied: bcrypt>=4.0.1 in c:\\users\\lenovo\\anaconda3\\lib\\site-packages (from chromadb) (5.0.0)\n",
      "Requirement already satisfied: typer>=0.9.0 in c:\\users\\lenovo\\anaconda3\\lib\\site-packages (from chromadb) (0.19.2)\n",
      "Requirement already satisfied: kubernetes>=28.1.0 in c:\\users\\lenovo\\anaconda3\\lib\\site-packages (from chromadb) (33.1.0)\n",
      "Requirement already satisfied: tenacity>=8.2.3 in c:\\users\\lenovo\\anaconda3\\lib\\site-packages (from chromadb) (8.2.3)\n",
      "Requirement already satisfied: pyyaml>=6.0.0 in c:\\users\\lenovo\\anaconda3\\lib\\site-packages (from chromadb) (6.0.1)\n",
      "Requirement already satisfied: mmh3>=4.0.1 in c:\\users\\lenovo\\anaconda3\\lib\\site-packages (from chromadb) (5.2.0)\n",
      "Requirement already satisfied: orjson>=3.9.12 in c:\\users\\lenovo\\anaconda3\\lib\\site-packages (from chromadb) (3.11.3)\n",
      "Requirement already satisfied: httpx>=0.27.0 in c:\\users\\lenovo\\anaconda3\\lib\\site-packages (from chromadb) (0.27.0)\n",
      "Requirement already satisfied: rich>=10.11.0 in c:\\users\\lenovo\\anaconda3\\lib\\site-packages (from chromadb) (13.7.1)\n",
      "Requirement already satisfied: jsonschema>=4.19.0 in c:\\users\\lenovo\\anaconda3\\lib\\site-packages (from chromadb) (4.23.0)\n",
      "Requirement already satisfied: packaging>=19.1 in c:\\users\\lenovo\\anaconda3\\lib\\site-packages (from build>=1.0.3->chromadb) (24.1)\n",
      "Requirement already satisfied: pyproject_hooks in c:\\users\\lenovo\\anaconda3\\lib\\site-packages (from build>=1.0.3->chromadb) (1.2.0)\n",
      "Requirement already satisfied: colorama in c:\\users\\lenovo\\anaconda3\\lib\\site-packages (from build>=1.0.3->chromadb) (0.4.6)\n",
      "Requirement already satisfied: anyio in c:\\users\\lenovo\\anaconda3\\lib\\site-packages (from httpx>=0.27.0->chromadb) (4.2.0)\n",
      "Requirement already satisfied: certifi in c:\\users\\lenovo\\anaconda3\\lib\\site-packages (from httpx>=0.27.0->chromadb) (2024.8.30)\n",
      "Requirement already satisfied: httpcore==1.* in c:\\users\\lenovo\\anaconda3\\lib\\site-packages (from httpx>=0.27.0->chromadb) (1.0.2)\n",
      "Requirement already satisfied: idna in c:\\users\\lenovo\\anaconda3\\lib\\site-packages (from httpx>=0.27.0->chromadb) (3.7)\n",
      "Requirement already satisfied: sniffio in c:\\users\\lenovo\\anaconda3\\lib\\site-packages (from httpx>=0.27.0->chromadb) (1.3.0)\n",
      "Requirement already satisfied: h11<0.15,>=0.13 in c:\\users\\lenovo\\anaconda3\\lib\\site-packages (from httpcore==1.*->httpx>=0.27.0->chromadb) (0.14.0)\n",
      "Requirement already satisfied: attrs>=22.2.0 in c:\\users\\lenovo\\anaconda3\\lib\\site-packages (from jsonschema>=4.19.0->chromadb) (23.1.0)\n",
      "Requirement already satisfied: jsonschema-specifications>=2023.03.6 in c:\\users\\lenovo\\anaconda3\\lib\\site-packages (from jsonschema>=4.19.0->chromadb) (2023.7.1)\n",
      "Requirement already satisfied: referencing>=0.28.4 in c:\\users\\lenovo\\anaconda3\\lib\\site-packages (from jsonschema>=4.19.0->chromadb) (0.30.2)\n",
      "Requirement already satisfied: rpds-py>=0.7.1 in c:\\users\\lenovo\\anaconda3\\lib\\site-packages (from jsonschema>=4.19.0->chromadb) (0.10.6)\n",
      "Requirement already satisfied: six>=1.9.0 in c:\\users\\lenovo\\anaconda3\\lib\\site-packages (from kubernetes>=28.1.0->chromadb) (1.16.0)\n",
      "Requirement already satisfied: python-dateutil>=2.5.3 in c:\\users\\lenovo\\anaconda3\\lib\\site-packages (from kubernetes>=28.1.0->chromadb) (2.9.0.post0)\n",
      "Requirement already satisfied: google-auth>=1.0.1 in c:\\users\\lenovo\\anaconda3\\lib\\site-packages (from kubernetes>=28.1.0->chromadb) (2.40.3)\n",
      "Requirement already satisfied: websocket-client!=0.40.0,!=0.41.*,!=0.42.*,>=0.32.0 in c:\\users\\lenovo\\anaconda3\\lib\\site-packages (from kubernetes>=28.1.0->chromadb) (1.8.0)\n",
      "Requirement already satisfied: requests in c:\\users\\lenovo\\anaconda3\\lib\\site-packages (from kubernetes>=28.1.0->chromadb) (2.32.3)\n",
      "Requirement already satisfied: requests-oauthlib in c:\\users\\lenovo\\anaconda3\\lib\\site-packages (from kubernetes>=28.1.0->chromadb) (2.0.0)\n",
      "Requirement already satisfied: oauthlib>=3.2.2 in c:\\users\\lenovo\\anaconda3\\lib\\site-packages (from kubernetes>=28.1.0->chromadb) (3.3.1)\n",
      "Requirement already satisfied: urllib3>=1.24.2 in c:\\users\\lenovo\\anaconda3\\lib\\site-packages (from kubernetes>=28.1.0->chromadb) (2.2.3)\n",
      "Requirement already satisfied: durationpy>=0.7 in c:\\users\\lenovo\\anaconda3\\lib\\site-packages (from kubernetes>=28.1.0->chromadb) (0.10)\n",
      "Requirement already satisfied: coloredlogs in c:\\users\\lenovo\\anaconda3\\lib\\site-packages (from onnxruntime>=1.14.1->chromadb) (15.0.1)\n",
      "Requirement already satisfied: flatbuffers in c:\\users\\lenovo\\anaconda3\\lib\\site-packages (from onnxruntime>=1.14.1->chromadb) (25.9.23)\n",
      "Requirement already satisfied: protobuf in c:\\users\\lenovo\\anaconda3\\lib\\site-packages (from onnxruntime>=1.14.1->chromadb) (6.32.1)\n",
      "Requirement already satisfied: sympy in c:\\users\\lenovo\\anaconda3\\lib\\site-packages (from onnxruntime>=1.14.1->chromadb) (1.14.0)\n",
      "Requirement already satisfied: importlib-metadata<8.8.0,>=6.0 in c:\\users\\lenovo\\anaconda3\\lib\\site-packages (from opentelemetry-api>=1.2.0->chromadb) (7.0.1)\n",
      "Requirement already satisfied: googleapis-common-protos~=1.57 in c:\\users\\lenovo\\anaconda3\\lib\\site-packages (from opentelemetry-exporter-otlp-proto-grpc>=1.2.0->chromadb) (1.70.0)\n",
      "Requirement already satisfied: opentelemetry-exporter-otlp-proto-common==1.37.0 in c:\\users\\lenovo\\anaconda3\\lib\\site-packages (from opentelemetry-exporter-otlp-proto-grpc>=1.2.0->chromadb) (1.37.0)\n",
      "Requirement already satisfied: opentelemetry-proto==1.37.0 in c:\\users\\lenovo\\anaconda3\\lib\\site-packages (from opentelemetry-exporter-otlp-proto-grpc>=1.2.0->chromadb) (1.37.0)\n",
      "Requirement already satisfied: opentelemetry-semantic-conventions==0.58b0 in c:\\users\\lenovo\\anaconda3\\lib\\site-packages (from opentelemetry-sdk>=1.2.0->chromadb) (0.58b0)\n",
      "Requirement already satisfied: backoff>=1.10.0 in c:\\users\\lenovo\\anaconda3\\lib\\site-packages (from posthog<6.0.0,>=2.4.0->chromadb) (2.2.1)\n",
      "Requirement already satisfied: distro>=1.5.0 in c:\\users\\lenovo\\anaconda3\\lib\\site-packages (from posthog<6.0.0,>=2.4.0->chromadb) (1.9.0)\n",
      "Requirement already satisfied: annotated-types>=0.4.0 in c:\\users\\lenovo\\anaconda3\\lib\\site-packages (from pydantic>=1.9->chromadb) (0.6.0)\n",
      "Requirement already satisfied: pydantic-core==2.20.1 in c:\\users\\lenovo\\anaconda3\\lib\\site-packages (from pydantic>=1.9->chromadb) (2.20.1)\n",
      "Requirement already satisfied: markdown-it-py>=2.2.0 in c:\\users\\lenovo\\anaconda3\\lib\\site-packages (from rich>=10.11.0->chromadb) (2.2.0)\n",
      "Requirement already satisfied: pygments<3.0.0,>=2.13.0 in c:\\users\\lenovo\\anaconda3\\lib\\site-packages (from rich>=10.11.0->chromadb) (2.15.1)\n",
      "Requirement already satisfied: huggingface-hub<2.0,>=0.16.4 in c:\\users\\lenovo\\anaconda3\\lib\\site-packages (from tokenizers>=0.13.2->chromadb) (0.35.1)\n",
      "Requirement already satisfied: click>=8.0.0 in c:\\users\\lenovo\\anaconda3\\lib\\site-packages (from typer>=0.9.0->chromadb) (8.1.7)\n",
      "Requirement already satisfied: shellingham>=1.3.0 in c:\\users\\lenovo\\anaconda3\\lib\\site-packages (from typer>=0.9.0->chromadb) (1.5.4)\n",
      "Requirement already satisfied: httptools>=0.6.3 in c:\\users\\lenovo\\anaconda3\\lib\\site-packages (from uvicorn[standard]>=0.18.3->chromadb) (0.6.4)\n",
      "Requirement already satisfied: python-dotenv>=0.13 in c:\\users\\lenovo\\anaconda3\\lib\\site-packages (from uvicorn[standard]>=0.18.3->chromadb) (0.21.0)\n",
      "Requirement already satisfied: watchfiles>=0.13 in c:\\users\\lenovo\\anaconda3\\lib\\site-packages (from uvicorn[standard]>=0.18.3->chromadb) (1.1.0)\n",
      "Requirement already satisfied: websockets>=10.4 in c:\\users\\lenovo\\anaconda3\\lib\\site-packages (from uvicorn[standard]>=0.18.3->chromadb) (15.0.1)\n",
      "Requirement already satisfied: cachetools<6.0,>=2.0.0 in c:\\users\\lenovo\\anaconda3\\lib\\site-packages (from google-auth>=1.0.1->kubernetes>=28.1.0->chromadb) (5.3.3)\n",
      "Requirement already satisfied: pyasn1-modules>=0.2.1 in c:\\users\\lenovo\\anaconda3\\lib\\site-packages (from google-auth>=1.0.1->kubernetes>=28.1.0->chromadb) (0.2.8)\n",
      "Requirement already satisfied: rsa<5,>=3.1.4 in c:\\users\\lenovo\\anaconda3\\lib\\site-packages (from google-auth>=1.0.1->kubernetes>=28.1.0->chromadb) (4.9.1)\n",
      "Requirement already satisfied: filelock in c:\\users\\lenovo\\anaconda3\\lib\\site-packages (from huggingface-hub<2.0,>=0.16.4->tokenizers>=0.13.2->chromadb) (3.13.1)\n",
      "Requirement already satisfied: fsspec>=2023.5.0 in c:\\users\\lenovo\\anaconda3\\lib\\site-packages (from huggingface-hub<2.0,>=0.16.4->tokenizers>=0.13.2->chromadb) (2024.6.1)\n",
      "Requirement already satisfied: zipp>=0.5 in c:\\users\\lenovo\\anaconda3\\lib\\site-packages (from importlib-metadata<8.8.0,>=6.0->opentelemetry-api>=1.2.0->chromadb) (3.17.0)\n",
      "Requirement already satisfied: mdurl~=0.1 in c:\\users\\lenovo\\anaconda3\\lib\\site-packages (from markdown-it-py>=2.2.0->rich>=10.11.0->chromadb) (0.1.0)\n",
      "Requirement already satisfied: charset-normalizer<4,>=2 in c:\\users\\lenovo\\anaconda3\\lib\\site-packages (from requests->kubernetes>=28.1.0->chromadb) (3.3.2)\n",
      "Requirement already satisfied: humanfriendly>=9.1 in c:\\users\\lenovo\\anaconda3\\lib\\site-packages (from coloredlogs->onnxruntime>=1.14.1->chromadb) (10.0)\n",
      "Requirement already satisfied: mpmath<1.4,>=1.1.0 in c:\\users\\lenovo\\anaconda3\\lib\\site-packages (from sympy->onnxruntime>=1.14.1->chromadb) (1.3.0)\n",
      "Requirement already satisfied: pyreadline3 in c:\\users\\lenovo\\anaconda3\\lib\\site-packages (from humanfriendly>=9.1->coloredlogs->onnxruntime>=1.14.1->chromadb) (3.5.4)\n",
      "Requirement already satisfied: pyasn1<0.5.0,>=0.4.6 in c:\\users\\lenovo\\anaconda3\\lib\\site-packages (from pyasn1-modules>=0.2.1->google-auth>=1.0.1->kubernetes>=28.1.0->chromadb) (0.4.8)\n"
     ]
    }
   ],
   "source": [
    "# install chromaDB\n",
    "!pip install chromadb"
   ]
  },
  {
   "cell_type": "code",
   "execution_count": 249,
   "id": "ce76b880",
   "metadata": {},
   "outputs": [],
   "source": [
    "# Define the path where chroma collections will be stored\n",
    "chroma_data_path = 'ChromaDB_Data'"
   ]
  },
  {
   "cell_type": "code",
   "execution_count": 250,
   "id": "1ec61c17",
   "metadata": {},
   "outputs": [],
   "source": [
    "import chromadb\n",
    "\n",
    "# Call PersistentClient()\n",
    "client = chromadb.PersistentClient(path=chroma_data_path)"
   ]
  },
  {
   "cell_type": "code",
   "execution_count": 251,
   "id": "663eba14",
   "metadata": {},
   "outputs": [],
   "source": [
    "# Create a collection to store the embeddings.\n",
    "client.delete_collection(\"insurance-collection\")\n",
    "\n",
    "collection = client.create_collection(\n",
    "    name=\"insurance-collection\",\n",
    "    embedding_function=embedding_function\n",
    ")"
   ]
  },
  {
   "cell_type": "code",
   "execution_count": 252,
   "id": "82e11634",
   "metadata": {},
   "outputs": [],
   "source": [
    "collection.add(\n",
    "    embeddings = fixed_chunk_df['Embeddings'].to_list(),\n",
    "    documents = fixed_chunk_df['Chunk Text'].to_list(),\n",
    "    metadatas = fixed_chunk_df['Metadata'].to_list(),\n",
    "    ids = [str(i) for i in range(0, len(fixed_chunk_df['Embeddings']))]\n",
    ")"
   ]
  },
  {
   "cell_type": "code",
   "execution_count": 253,
   "id": "73b6d7d7",
   "metadata": {},
   "outputs": [
    {
     "data": {
      "text/plain": [
       "{'ids': ['0', '1', '2'], 'embeddings': array([[-2.59219185e-02,  4.77774851e-02,  5.58577403e-02, ...,\n",
       "        -4.93265502e-02, -5.85114509e-02,  2.35519167e-02],\n",
       "       [ 2.91189384e-02,  6.05741106e-02,  4.64153215e-02, ...,\n",
       "         5.95401786e-02, -2.83837337e-02,  5.31934854e-03],\n",
       "       [-6.45379871e-02,  4.31971028e-02, -8.38417182e-05, ...,\n",
       "        -3.78734246e-02,  1.79674458e-02, -7.36602023e-03]]), 'documents': ['DOROTHEA GLAUSE S655 RHODE ISLAND JOHN DOE 01/01/2014 711 HIGH STREET GEORGE RI 02903 GROUP POLICY FOR: RHODE ISLAND JOHN DOE ALL MEMBERS Group Member Life Insurance Print Date: 07/16/2014', 'This page left blank intentionally', 'POLICY RIDER GROUP INSURANCE POLICY NO: S655 COVERAGE: Life EMPLOYER: RHODE ISLAND JOHN DOE Effective on the later of the Date of Issue of this Group Policy or March 1, 2005, the following will apply to your Policy: From time to time The Principal may offer or provide certain employer groups who apply for coverage with The Principal a Financial Services Hotline and Grief Support Services or any other value added service for the employees of that employer group. In addition, The Principal may'], 'uris': None, 'included': ['embeddings', 'documents', 'metadatas'], 'data': None, 'metadatas': [{'Chunk_No.': 0, 'Page_No.': 'Page 1'}, {'Chunk_No.': 0, 'Page_No.': 'Page 2'}, {'Page_No.': 'Page 3', 'Chunk_No.': 2}]}"
      ]
     },
     "execution_count": 253,
     "metadata": {},
     "output_type": "execute_result"
    }
   ],
   "source": [
    "# get few of data by ids from collection\n",
    "collection.get(\n",
    "    ids = ['0','1','2'],\n",
    "    include = ['embeddings', 'documents', 'metadatas']\n",
    ")"
   ]
  },
  {
   "cell_type": "code",
   "execution_count": 254,
   "id": "8a261143",
   "metadata": {},
   "outputs": [],
   "source": [
    "# create a cache collection\n",
    "client.delete_collection(\"insurance-collection-cache\")\n",
    "\n",
    "cache_collection = client.create_collection(\n",
    "    name=\"insurance-collection-cache\",\n",
    "    embedding_function=embedding_function\n",
    ")"
   ]
  },
  {
   "cell_type": "code",
   "execution_count": 255,
   "id": "fa1600d3",
   "metadata": {},
   "outputs": [
    {
     "data": {
      "text/plain": [
       "{'ids': [], 'embeddings': array([], dtype=float64), 'documents': [], 'uris': None, 'included': ['metadatas', 'documents', 'embeddings'], 'data': None, 'metadatas': []}"
      ]
     },
     "execution_count": 255,
     "metadata": {},
     "output_type": "execute_result"
    }
   ],
   "source": [
    "# peek few of elements from cache collection\n",
    "cache_collection.peek()"
   ]
  },
  {
   "cell_type": "markdown",
   "id": "f095ede8",
   "metadata": {},
   "source": [
    "#### Semantic search with cache"
   ]
  },
  {
   "cell_type": "code",
   "execution_count": 256,
   "id": "be1c5adc-ac77-49da-af46-ce6a69e525ca",
   "metadata": {},
   "outputs": [],
   "source": [
    "# Read the user query\n",
    "query = \"what is the life insurance coverage for disability?\""
   ]
  },
  {
   "cell_type": "code",
   "execution_count": 257,
   "id": "91b0341f-4ed3-4442-b78c-a1e924acb9ca",
   "metadata": {},
   "outputs": [],
   "source": [
    "# Searh the Cache collection first\n",
    "# Query the collection against the user query and return the top 20 results\n",
    "cache_results = cache_collection.query(\n",
    "    query_texts=query,\n",
    "    n_results=1\n",
    ")"
   ]
  },
  {
   "cell_type": "code",
   "execution_count": 258,
   "id": "824827c7-d05e-4df4-a362-1997d0595c94",
   "metadata": {},
   "outputs": [
    {
     "data": {
      "text/plain": [
       "{'ids': [[]], 'embeddings': None, 'documents': [[]], 'uris': None, 'included': ['metadatas', 'documents', 'distances'], 'data': None, 'metadatas': [[]], 'distances': [[]]}"
      ]
     },
     "execution_count": 258,
     "metadata": {},
     "output_type": "execute_result"
    }
   ],
   "source": [
    "# get result from cache collection\n",
    "cache_results"
   ]
  },
  {
   "cell_type": "code",
   "execution_count": 259,
   "id": "9de19574-909f-4af2-b158-59cc4b504630",
   "metadata": {},
   "outputs": [
    {
     "name": "stdout",
     "output_type": "stream",
     "text": [
      "Result size is : 8\n"
     ]
    },
    {
     "data": {
      "text/plain": [
       "dict_items([('ids', [['143', '171', '85', '146', '147', '151', '141', '142', '183', '180']]), ('embeddings', None), ('documents', [['Member Life Insurance or Coverage During Disability terminates under this Group Policy. This policy has been updated effective January 1, 2014 PART III - INDIVIDUAL REQUIREMENTS AND RIGHTS GC 6011 Section F - Individual Purchase Rights, Page 1', \"Payment of benefits will be subject to the Beneficiary and Facility of Payment provisions of this PART IV, Section A. Article 6 - Member Life Insurance - Coverage During Disability A Member may be eligible to continue his or her Member Life and Member Accidental Death and Dismemberment Insurance and Dependent Life Insurance coverage during the Member's ADL Disability or Total Disability. a. Coverage Qualification To be qualified for Coverage During Disability, a Member must: (1) become ADL\", 'terms of the Prior Policy, to have their premiums waived due to ADL Disability or Total Disability. NOTE: When insurance under this Group Policy replaces coverage under a Prior Policy and the Active Work requirement is waived, any benefits payable will be the lesser of the Scheduled Benefit of this Group Policy or the amount that would have been paid by the Prior Policy had it remained in force. b. Effective Date for Initial Insurance When Proof of Good Health is Required This policy has been', 'be the Coverage During Disability benefit in force on the date Total Disability ceases, less any individual policy amount purchased earlier under this Article 1, and less any Accelerated Benefit payment as described in PART IV, Section A, Article 7. (4) If termination is as described in b. (4) above, the maximum amount will be the Member Life Insurance benefit in force on the date the Member ceases Active Work, less any individual policy amount purchased earlier under this Article 1, and less', 'any Accelerated Benefit payment as described in PART IV, Section A, Article 7. Article 2 - Dependent Life Insurance a. Individual Policy If a Dependent qualifies and makes timely application, he or she may purchase an individual policy of life insurance under these terms: (1) The Dependent will not be required to submit Proof of Good Health. (2) The policy will be for life insurance only. No disability or other benefits will be included. (3) The policy will be on one of the forms, other than', \"Dependent's Life Insurance terminates because the Member's Coverage During Disability as described in PART IV, Section A, ceases because Total Disability ends and the Member does not return to Active Work within 31 days ; or (6) the Dependent's Life Insurance terminates because the Member's Accelerated Benefits Premium Waiver Period as described in PART IV, Section A, ceases and the Member does not qualify for Coverage During Disability. c. Application/Effective Date Notice of the individual\", \"class eligible for insurance; or (2) after the Member has been continuously insured under this Group Policy for at least five years, his or her total Member Life Insurance terminates because this Group Policy terminates or is amended to exclude the Member's insurance class; or (3) the Member's Coverage During Disability as described in PART IV, Section A, ceases because Total Disability ends and he or she does not return to Active Work within 31 days; or (4) the Member's Accelerated Benefits\", 'Premium Waiver Period as described in PART IV, Section A, ceases and he or she does not qualify for Coverage During Disability . c. Application/Effective Date Notice of the individual purchase right must be given to the Member by the Policyholder before insurance under this Group Policy terminates, or as soon as reasonably possible thereafter. A Member must apply for individual purchase and the first premium for the individual policy must be paid to The Principal within 31 days after the date', 'disability that: (1) results from willful self-injury or self-destruction, while sane or insane; or (2) results from war or act of war; or (3) results from voluntary participation in an assault, felony, criminal activity, insurrection, or riot. Article 7 - Accelerated Benefits a. Accelerated Benefits Qualification To be qualified for an Accelerated Benefit payment, a Member must: (1) be Terminally Ill and insured for a Member Life Insurance benefit of at least $10,000; and (2) send a request for', 'Total Disability began. Failure to give Written proof within the time specified will not invalidate or reduce any claim if Written proof is given as soon as reasonably possible. Further, if a death benefit is paid under this section of the Group Policy, it will be in place of all other Member Life Insurance benefits provided under this Group Policy. f. Termination (Premium Waiver) This policy has been updated effective January 1, 2014 PART IV - BENEFITS GC 6013 Section A - Member Life Insurance,']]), ('uris', None), ('included', ['metadatas', 'documents', 'distances']), ('data', None), ('metadatas', [[{'Page_No.': 'Page 42', 'Chunk_No.': 4}, {'Chunk_No.': 4, 'Page_No.': 'Page 49'}, {'Page_No.': 'Page 28', 'Chunk_No.': 4}, {'Page_No.': 'Page 43', 'Chunk_No.': 4}, {'Chunk_No.': 4, 'Page_No.': 'Page 43'}, {'Chunk_No.': 4, 'Page_No.': 'Page 44'}, {'Page_No.': 'Page 42', 'Chunk_No.': 4}, {'Chunk_No.': 4, 'Page_No.': 'Page 42'}, {'Page_No.': 'Page 51', 'Chunk_No.': 3}, {'Page_No.': 'Page 50', 'Chunk_No.': 5}]]), ('distances', [[0.37061768770217896, 0.4143136739730835, 0.43348246812820435, 0.4344351291656494, 0.45139366388320923, 0.4517715573310852, 0.45528531074523926, 0.4576358199119568, 0.46594560146331787, 0.4721386432647705]])])"
      ]
     },
     "execution_count": 259,
     "metadata": {},
     "output_type": "execute_result"
    }
   ],
   "source": [
    "# get result from main collection\n",
    "results = collection.query(\n",
    "query_texts=query,\n",
    "n_results=10\n",
    ")\n",
    "print(\"Result size is : \" + str(len(results.items())))\n",
    "results.items()"
   ]
  },
  {
   "cell_type": "code",
   "execution_count": 260,
   "id": "308f0cc3-360a-49f9-be4c-f7e9d3e4bada",
   "metadata": {},
   "outputs": [
    {
     "name": "stdout",
     "output_type": "stream",
     "text": [
      "Not found in cache. Found in main collection.\n"
     ]
    }
   ],
   "source": [
    "# Implementing Cache in Semantic Search\n",
    "\n",
    "# Set a threshold for cache search\n",
    "threshold = 0.2\n",
    "\n",
    "ids = []\n",
    "documents = []\n",
    "distances = []\n",
    "metadatas = []\n",
    "results_df = pd.DataFrame()\n",
    "\n",
    "\n",
    "# If the distance is greater than the threshold, then return the results from the main collection.\n",
    "\n",
    "if cache_results['distances'][0] == [] or cache_results['distances'][0][0] > threshold:\n",
    "      # Query the collection against the user query and return the top 10 results\n",
    "      results = collection.query(\n",
    "      query_texts=query,\n",
    "      n_results=10\n",
    "      )\n",
    "\n",
    "      # Store the query in cache_collection as document w.r.t to ChromaDB so that it can be embedded and searched against later\n",
    "      # Store retrieved text, ids, distances and metadatas in cache_collection as metadatas, so that they can be fetched easily if a query indeed matches to a query in cache\n",
    "      Keys = []\n",
    "      Values = []\n",
    "\n",
    "      size = len(results.items())\n",
    "\n",
    "      for key, val in results.items():\n",
    "        if val is None:\n",
    "          continue\n",
    "        for i in range(size):\n",
    "          Keys.append(str(key)+str(i))\n",
    "          Values.append(str(val[0][i]))\n",
    "\n",
    "\n",
    "      cache_collection.add(\n",
    "          documents= [query],\n",
    "          ids = [query],  # Or if you want to assign integers as IDs 0,1,2,.., then you can use \"len(cache_results['documents'])\" as will return the no. of queries currently in the cache and assign the next digit to the new query.\"\n",
    "          metadatas = dict(zip(Keys, Values))\n",
    "      )\n",
    "\n",
    "      print(\"Not found in cache. Found in main collection.\")\n",
    "\n",
    "      result_dict = {'Metadatas': results['metadatas'][0], 'Documents': results['documents'][0], 'Distances': results['distances'][0], \"IDs\":results[\"ids\"][0]}\n",
    "      results_df = pd.DataFrame.from_dict(result_dict)\n",
    "      results_df\n",
    "\n",
    "\n",
    "# If the distance is, however, less than the threshold, you can return the results from cache\n",
    "\n",
    "elif cache_results['distances'][0][0] <= threshold:\n",
    "      cache_result_dict = cache_results['metadatas'][0][0]\n",
    "\n",
    "      # Loop through each inner list and then through the dictionary\n",
    "      for key, value in cache_result_dict.items():\n",
    "          if 'ids' in key:\n",
    "              ids.append(value)\n",
    "          elif 'documents' in key:\n",
    "              documents.append(value)\n",
    "          elif 'distances' in key:\n",
    "              distances.append(value)\n",
    "          elif 'metadatas' in key:\n",
    "              metadatas.append(value)\n",
    "\n",
    "      print(\"Found in cache!\")\n",
    "\n",
    "      # Create a DataFrame\n",
    "      results_df = pd.DataFrame({\n",
    "        'IDs': ids,\n",
    "        'Documents': documents,\n",
    "        'Distances': distances,\n",
    "        'Metadatas': metadatas\n",
    "      })\n"
   ]
  },
  {
   "cell_type": "code",
   "execution_count": 261,
   "id": "ce21b4af-1426-437a-a6ca-0aacdd788aab",
   "metadata": {},
   "outputs": [
    {
     "data": {
      "text/html": [
       "<div>\n",
       "<style scoped>\n",
       "    .dataframe tbody tr th:only-of-type {\n",
       "        vertical-align: middle;\n",
       "    }\n",
       "\n",
       "    .dataframe tbody tr th {\n",
       "        vertical-align: top;\n",
       "    }\n",
       "\n",
       "    .dataframe thead th {\n",
       "        text-align: right;\n",
       "    }\n",
       "</style>\n",
       "<table border=\"1\" class=\"dataframe\">\n",
       "  <thead>\n",
       "    <tr style=\"text-align: right;\">\n",
       "      <th></th>\n",
       "      <th>Metadatas</th>\n",
       "      <th>Documents</th>\n",
       "      <th>Distances</th>\n",
       "      <th>IDs</th>\n",
       "    </tr>\n",
       "  </thead>\n",
       "  <tbody>\n",
       "    <tr>\n",
       "      <th>0</th>\n",
       "      <td>{'Chunk_No.': 4, 'Page_No.': 'Page 42'}</td>\n",
       "      <td>Member Life Insurance or Coverage During Disab...</td>\n",
       "      <td>0.370618</td>\n",
       "      <td>143</td>\n",
       "    </tr>\n",
       "    <tr>\n",
       "      <th>1</th>\n",
       "      <td>{'Page_No.': 'Page 49', 'Chunk_No.': 4}</td>\n",
       "      <td>Payment of benefits will be subject to the Ben...</td>\n",
       "      <td>0.414314</td>\n",
       "      <td>171</td>\n",
       "    </tr>\n",
       "    <tr>\n",
       "      <th>2</th>\n",
       "      <td>{'Chunk_No.': 4, 'Page_No.': 'Page 28'}</td>\n",
       "      <td>terms of the Prior Policy, to have their premi...</td>\n",
       "      <td>0.433482</td>\n",
       "      <td>85</td>\n",
       "    </tr>\n",
       "    <tr>\n",
       "      <th>3</th>\n",
       "      <td>{'Chunk_No.': 4, 'Page_No.': 'Page 43'}</td>\n",
       "      <td>be the Coverage During Disability benefit in f...</td>\n",
       "      <td>0.434435</td>\n",
       "      <td>146</td>\n",
       "    </tr>\n",
       "    <tr>\n",
       "      <th>4</th>\n",
       "      <td>{'Page_No.': 'Page 43', 'Chunk_No.': 4}</td>\n",
       "      <td>any Accelerated Benefit payment as described i...</td>\n",
       "      <td>0.451394</td>\n",
       "      <td>147</td>\n",
       "    </tr>\n",
       "    <tr>\n",
       "      <th>5</th>\n",
       "      <td>{'Page_No.': 'Page 44', 'Chunk_No.': 4}</td>\n",
       "      <td>Dependent's Life Insurance terminates because ...</td>\n",
       "      <td>0.451772</td>\n",
       "      <td>151</td>\n",
       "    </tr>\n",
       "    <tr>\n",
       "      <th>6</th>\n",
       "      <td>{'Chunk_No.': 4, 'Page_No.': 'Page 42'}</td>\n",
       "      <td>class eligible for insurance; or (2) after the...</td>\n",
       "      <td>0.455285</td>\n",
       "      <td>141</td>\n",
       "    </tr>\n",
       "    <tr>\n",
       "      <th>7</th>\n",
       "      <td>{'Chunk_No.': 4, 'Page_No.': 'Page 42'}</td>\n",
       "      <td>Premium Waiver Period as described in PART IV,...</td>\n",
       "      <td>0.457636</td>\n",
       "      <td>142</td>\n",
       "    </tr>\n",
       "    <tr>\n",
       "      <th>8</th>\n",
       "      <td>{'Chunk_No.': 3, 'Page_No.': 'Page 51'}</td>\n",
       "      <td>disability that: (1) results from willful self...</td>\n",
       "      <td>0.465946</td>\n",
       "      <td>183</td>\n",
       "    </tr>\n",
       "    <tr>\n",
       "      <th>9</th>\n",
       "      <td>{'Chunk_No.': 5, 'Page_No.': 'Page 50'}</td>\n",
       "      <td>Total Disability began. Failure to give Writte...</td>\n",
       "      <td>0.472139</td>\n",
       "      <td>180</td>\n",
       "    </tr>\n",
       "  </tbody>\n",
       "</table>\n",
       "</div>"
      ],
      "text/plain": [
       "                                 Metadatas  \\\n",
       "0  {'Chunk_No.': 4, 'Page_No.': 'Page 42'}   \n",
       "1  {'Page_No.': 'Page 49', 'Chunk_No.': 4}   \n",
       "2  {'Chunk_No.': 4, 'Page_No.': 'Page 28'}   \n",
       "3  {'Chunk_No.': 4, 'Page_No.': 'Page 43'}   \n",
       "4  {'Page_No.': 'Page 43', 'Chunk_No.': 4}   \n",
       "5  {'Page_No.': 'Page 44', 'Chunk_No.': 4}   \n",
       "6  {'Chunk_No.': 4, 'Page_No.': 'Page 42'}   \n",
       "7  {'Chunk_No.': 4, 'Page_No.': 'Page 42'}   \n",
       "8  {'Chunk_No.': 3, 'Page_No.': 'Page 51'}   \n",
       "9  {'Chunk_No.': 5, 'Page_No.': 'Page 50'}   \n",
       "\n",
       "                                           Documents  Distances  IDs  \n",
       "0  Member Life Insurance or Coverage During Disab...   0.370618  143  \n",
       "1  Payment of benefits will be subject to the Ben...   0.414314  171  \n",
       "2  terms of the Prior Policy, to have their premi...   0.433482   85  \n",
       "3  be the Coverage During Disability benefit in f...   0.434435  146  \n",
       "4  any Accelerated Benefit payment as described i...   0.451394  147  \n",
       "5  Dependent's Life Insurance terminates because ...   0.451772  151  \n",
       "6  class eligible for insurance; or (2) after the...   0.455285  141  \n",
       "7  Premium Waiver Period as described in PART IV,...   0.457636  142  \n",
       "8  disability that: (1) results from willful self...   0.465946  183  \n",
       "9  Total Disability began. Failure to give Writte...   0.472139  180  "
      ]
     },
     "execution_count": 261,
     "metadata": {},
     "output_type": "execute_result"
    }
   ],
   "source": [
    "results_df"
   ]
  },
  {
   "cell_type": "markdown",
   "id": "ea6f32d4",
   "metadata": {},
   "source": [
    "#### Re-ranking with cross encoder"
   ]
  },
  {
   "cell_type": "code",
   "execution_count": 262,
   "id": "36cc4677-03f5-4fb8-ac28-40f6a471b930",
   "metadata": {},
   "outputs": [],
   "source": [
    "from sentence_transformers import CrossEncoder"
   ]
  },
  {
   "cell_type": "code",
   "execution_count": 263,
   "id": "eb7dbaec-e40c-424e-8244-07a3ba746287",
   "metadata": {},
   "outputs": [],
   "source": [
    "# Initialise the cross encoder model\n",
    "cross_encoder = CrossEncoder('cross-encoder/ms-marco-MiniLM-L-6-v2')"
   ]
  },
  {
   "cell_type": "code",
   "execution_count": 264,
   "id": "2156d14d-f654-4fd2-bad0-4a1b4486b827",
   "metadata": {},
   "outputs": [],
   "source": [
    "# Input (query, response) pairs for each of the top 20 responses received from the semantic search to the cross encoder\n",
    "# Generate the cross_encoder scores for these pairs\n",
    "\n",
    "cross_inputs = [[query, response] for response in results_df['Documents']]\n",
    "cross_rerank_scores = cross_encoder.predict(cross_inputs)"
   ]
  },
  {
   "cell_type": "code",
   "execution_count": 265,
   "id": "cd02dc97-8521-43a6-b458-dd5c89c19514",
   "metadata": {},
   "outputs": [
    {
     "data": {
      "text/plain": [
       "array([ 2.9966824 ,  4.181331  , -1.9128212 ,  1.0115826 ,  0.10687619,\n",
       "        2.4188108 ,  1.7296526 , -2.7800884 , -1.0776279 , -0.43408623],\n",
       "      dtype=float32)"
      ]
     },
     "execution_count": 265,
     "metadata": {},
     "output_type": "execute_result"
    }
   ],
   "source": [
    "# pritn the cross rerank scores\n",
    "cross_rerank_scores"
   ]
  },
  {
   "cell_type": "code",
   "execution_count": 266,
   "id": "aacf1ccb-2b64-4e47-bfe8-3fef2527f5c2",
   "metadata": {},
   "outputs": [],
   "source": [
    "results_df['Reranked_scores'] = cross_rerank_scores"
   ]
  },
  {
   "cell_type": "code",
   "execution_count": 267,
   "id": "7b3ab284-2674-4b25-9738-da2afe20dfc7",
   "metadata": {},
   "outputs": [
    {
     "data": {
      "text/html": [
       "<div>\n",
       "<style scoped>\n",
       "    .dataframe tbody tr th:only-of-type {\n",
       "        vertical-align: middle;\n",
       "    }\n",
       "\n",
       "    .dataframe tbody tr th {\n",
       "        vertical-align: top;\n",
       "    }\n",
       "\n",
       "    .dataframe thead th {\n",
       "        text-align: right;\n",
       "    }\n",
       "</style>\n",
       "<table border=\"1\" class=\"dataframe\">\n",
       "  <thead>\n",
       "    <tr style=\"text-align: right;\">\n",
       "      <th></th>\n",
       "      <th>Metadatas</th>\n",
       "      <th>Documents</th>\n",
       "      <th>Distances</th>\n",
       "      <th>IDs</th>\n",
       "      <th>Reranked_scores</th>\n",
       "    </tr>\n",
       "  </thead>\n",
       "  <tbody>\n",
       "    <tr>\n",
       "      <th>0</th>\n",
       "      <td>{'Chunk_No.': 4, 'Page_No.': 'Page 42'}</td>\n",
       "      <td>Member Life Insurance or Coverage During Disab...</td>\n",
       "      <td>0.370618</td>\n",
       "      <td>143</td>\n",
       "      <td>2.996682</td>\n",
       "    </tr>\n",
       "    <tr>\n",
       "      <th>1</th>\n",
       "      <td>{'Page_No.': 'Page 49', 'Chunk_No.': 4}</td>\n",
       "      <td>Payment of benefits will be subject to the Ben...</td>\n",
       "      <td>0.414314</td>\n",
       "      <td>171</td>\n",
       "      <td>4.181331</td>\n",
       "    </tr>\n",
       "    <tr>\n",
       "      <th>2</th>\n",
       "      <td>{'Chunk_No.': 4, 'Page_No.': 'Page 28'}</td>\n",
       "      <td>terms of the Prior Policy, to have their premi...</td>\n",
       "      <td>0.433482</td>\n",
       "      <td>85</td>\n",
       "      <td>-1.912821</td>\n",
       "    </tr>\n",
       "    <tr>\n",
       "      <th>3</th>\n",
       "      <td>{'Chunk_No.': 4, 'Page_No.': 'Page 43'}</td>\n",
       "      <td>be the Coverage During Disability benefit in f...</td>\n",
       "      <td>0.434435</td>\n",
       "      <td>146</td>\n",
       "      <td>1.011583</td>\n",
       "    </tr>\n",
       "    <tr>\n",
       "      <th>4</th>\n",
       "      <td>{'Page_No.': 'Page 43', 'Chunk_No.': 4}</td>\n",
       "      <td>any Accelerated Benefit payment as described i...</td>\n",
       "      <td>0.451394</td>\n",
       "      <td>147</td>\n",
       "      <td>0.106876</td>\n",
       "    </tr>\n",
       "    <tr>\n",
       "      <th>5</th>\n",
       "      <td>{'Page_No.': 'Page 44', 'Chunk_No.': 4}</td>\n",
       "      <td>Dependent's Life Insurance terminates because ...</td>\n",
       "      <td>0.451772</td>\n",
       "      <td>151</td>\n",
       "      <td>2.418811</td>\n",
       "    </tr>\n",
       "    <tr>\n",
       "      <th>6</th>\n",
       "      <td>{'Chunk_No.': 4, 'Page_No.': 'Page 42'}</td>\n",
       "      <td>class eligible for insurance; or (2) after the...</td>\n",
       "      <td>0.455285</td>\n",
       "      <td>141</td>\n",
       "      <td>1.729653</td>\n",
       "    </tr>\n",
       "    <tr>\n",
       "      <th>7</th>\n",
       "      <td>{'Chunk_No.': 4, 'Page_No.': 'Page 42'}</td>\n",
       "      <td>Premium Waiver Period as described in PART IV,...</td>\n",
       "      <td>0.457636</td>\n",
       "      <td>142</td>\n",
       "      <td>-2.780088</td>\n",
       "    </tr>\n",
       "    <tr>\n",
       "      <th>8</th>\n",
       "      <td>{'Chunk_No.': 3, 'Page_No.': 'Page 51'}</td>\n",
       "      <td>disability that: (1) results from willful self...</td>\n",
       "      <td>0.465946</td>\n",
       "      <td>183</td>\n",
       "      <td>-1.077628</td>\n",
       "    </tr>\n",
       "    <tr>\n",
       "      <th>9</th>\n",
       "      <td>{'Chunk_No.': 5, 'Page_No.': 'Page 50'}</td>\n",
       "      <td>Total Disability began. Failure to give Writte...</td>\n",
       "      <td>0.472139</td>\n",
       "      <td>180</td>\n",
       "      <td>-0.434086</td>\n",
       "    </tr>\n",
       "  </tbody>\n",
       "</table>\n",
       "</div>"
      ],
      "text/plain": [
       "                                 Metadatas  \\\n",
       "0  {'Chunk_No.': 4, 'Page_No.': 'Page 42'}   \n",
       "1  {'Page_No.': 'Page 49', 'Chunk_No.': 4}   \n",
       "2  {'Chunk_No.': 4, 'Page_No.': 'Page 28'}   \n",
       "3  {'Chunk_No.': 4, 'Page_No.': 'Page 43'}   \n",
       "4  {'Page_No.': 'Page 43', 'Chunk_No.': 4}   \n",
       "5  {'Page_No.': 'Page 44', 'Chunk_No.': 4}   \n",
       "6  {'Chunk_No.': 4, 'Page_No.': 'Page 42'}   \n",
       "7  {'Chunk_No.': 4, 'Page_No.': 'Page 42'}   \n",
       "8  {'Chunk_No.': 3, 'Page_No.': 'Page 51'}   \n",
       "9  {'Chunk_No.': 5, 'Page_No.': 'Page 50'}   \n",
       "\n",
       "                                           Documents  Distances  IDs  \\\n",
       "0  Member Life Insurance or Coverage During Disab...   0.370618  143   \n",
       "1  Payment of benefits will be subject to the Ben...   0.414314  171   \n",
       "2  terms of the Prior Policy, to have their premi...   0.433482   85   \n",
       "3  be the Coverage During Disability benefit in f...   0.434435  146   \n",
       "4  any Accelerated Benefit payment as described i...   0.451394  147   \n",
       "5  Dependent's Life Insurance terminates because ...   0.451772  151   \n",
       "6  class eligible for insurance; or (2) after the...   0.455285  141   \n",
       "7  Premium Waiver Period as described in PART IV,...   0.457636  142   \n",
       "8  disability that: (1) results from willful self...   0.465946  183   \n",
       "9  Total Disability began. Failure to give Writte...   0.472139  180   \n",
       "\n",
       "   Reranked_scores  \n",
       "0         2.996682  \n",
       "1         4.181331  \n",
       "2        -1.912821  \n",
       "3         1.011583  \n",
       "4         0.106876  \n",
       "5         2.418811  \n",
       "6         1.729653  \n",
       "7        -2.780088  \n",
       "8        -1.077628  \n",
       "9        -0.434086  "
      ]
     },
     "execution_count": 267,
     "metadata": {},
     "output_type": "execute_result"
    }
   ],
   "source": [
    "results_df"
   ]
  },
  {
   "cell_type": "code",
   "execution_count": 268,
   "id": "b3a3ee03-3317-4248-a0ef-b94055e8f0a8",
   "metadata": {},
   "outputs": [
    {
     "data": {
      "text/html": [
       "<div>\n",
       "<style scoped>\n",
       "    .dataframe tbody tr th:only-of-type {\n",
       "        vertical-align: middle;\n",
       "    }\n",
       "\n",
       "    .dataframe tbody tr th {\n",
       "        vertical-align: top;\n",
       "    }\n",
       "\n",
       "    .dataframe thead th {\n",
       "        text-align: right;\n",
       "    }\n",
       "</style>\n",
       "<table border=\"1\" class=\"dataframe\">\n",
       "  <thead>\n",
       "    <tr style=\"text-align: right;\">\n",
       "      <th></th>\n",
       "      <th>Metadatas</th>\n",
       "      <th>Documents</th>\n",
       "      <th>Distances</th>\n",
       "      <th>IDs</th>\n",
       "      <th>Reranked_scores</th>\n",
       "    </tr>\n",
       "  </thead>\n",
       "  <tbody>\n",
       "    <tr>\n",
       "      <th>0</th>\n",
       "      <td>{'Chunk_No.': 4, 'Page_No.': 'Page 42'}</td>\n",
       "      <td>Member Life Insurance or Coverage During Disab...</td>\n",
       "      <td>0.370618</td>\n",
       "      <td>143</td>\n",
       "      <td>2.996682</td>\n",
       "    </tr>\n",
       "    <tr>\n",
       "      <th>1</th>\n",
       "      <td>{'Page_No.': 'Page 49', 'Chunk_No.': 4}</td>\n",
       "      <td>Payment of benefits will be subject to the Ben...</td>\n",
       "      <td>0.414314</td>\n",
       "      <td>171</td>\n",
       "      <td>4.181331</td>\n",
       "    </tr>\n",
       "    <tr>\n",
       "      <th>2</th>\n",
       "      <td>{'Chunk_No.': 4, 'Page_No.': 'Page 28'}</td>\n",
       "      <td>terms of the Prior Policy, to have their premi...</td>\n",
       "      <td>0.433482</td>\n",
       "      <td>85</td>\n",
       "      <td>-1.912821</td>\n",
       "    </tr>\n",
       "    <tr>\n",
       "      <th>3</th>\n",
       "      <td>{'Chunk_No.': 4, 'Page_No.': 'Page 43'}</td>\n",
       "      <td>be the Coverage During Disability benefit in f...</td>\n",
       "      <td>0.434435</td>\n",
       "      <td>146</td>\n",
       "      <td>1.011583</td>\n",
       "    </tr>\n",
       "    <tr>\n",
       "      <th>4</th>\n",
       "      <td>{'Page_No.': 'Page 43', 'Chunk_No.': 4}</td>\n",
       "      <td>any Accelerated Benefit payment as described i...</td>\n",
       "      <td>0.451394</td>\n",
       "      <td>147</td>\n",
       "      <td>0.106876</td>\n",
       "    </tr>\n",
       "  </tbody>\n",
       "</table>\n",
       "</div>"
      ],
      "text/plain": [
       "                                 Metadatas  \\\n",
       "0  {'Chunk_No.': 4, 'Page_No.': 'Page 42'}   \n",
       "1  {'Page_No.': 'Page 49', 'Chunk_No.': 4}   \n",
       "2  {'Chunk_No.': 4, 'Page_No.': 'Page 28'}   \n",
       "3  {'Chunk_No.': 4, 'Page_No.': 'Page 43'}   \n",
       "4  {'Page_No.': 'Page 43', 'Chunk_No.': 4}   \n",
       "\n",
       "                                           Documents  Distances  IDs  \\\n",
       "0  Member Life Insurance or Coverage During Disab...   0.370618  143   \n",
       "1  Payment of benefits will be subject to the Ben...   0.414314  171   \n",
       "2  terms of the Prior Policy, to have their premi...   0.433482   85   \n",
       "3  be the Coverage During Disability benefit in f...   0.434435  146   \n",
       "4  any Accelerated Benefit payment as described i...   0.451394  147   \n",
       "\n",
       "   Reranked_scores  \n",
       "0         2.996682  \n",
       "1         4.181331  \n",
       "2        -1.912821  \n",
       "3         1.011583  \n",
       "4         0.106876  "
      ]
     },
     "execution_count": 268,
     "metadata": {},
     "output_type": "execute_result"
    }
   ],
   "source": [
    "# Return the top 5 results from semantic search\n",
    "\n",
    "top_3_semantic = results_df.sort_values(by='Distances')\n",
    "top_3_semantic[:5]"
   ]
  },
  {
   "cell_type": "code",
   "execution_count": 269,
   "id": "2cfc05af-590a-42e3-b05e-2f2736dc3667",
   "metadata": {},
   "outputs": [
    {
     "data": {
      "text/html": [
       "<div>\n",
       "<style scoped>\n",
       "    .dataframe tbody tr th:only-of-type {\n",
       "        vertical-align: middle;\n",
       "    }\n",
       "\n",
       "    .dataframe tbody tr th {\n",
       "        vertical-align: top;\n",
       "    }\n",
       "\n",
       "    .dataframe thead th {\n",
       "        text-align: right;\n",
       "    }\n",
       "</style>\n",
       "<table border=\"1\" class=\"dataframe\">\n",
       "  <thead>\n",
       "    <tr style=\"text-align: right;\">\n",
       "      <th></th>\n",
       "      <th>Metadatas</th>\n",
       "      <th>Documents</th>\n",
       "      <th>Distances</th>\n",
       "      <th>IDs</th>\n",
       "      <th>Reranked_scores</th>\n",
       "    </tr>\n",
       "  </thead>\n",
       "  <tbody>\n",
       "    <tr>\n",
       "      <th>1</th>\n",
       "      <td>{'Page_No.': 'Page 49', 'Chunk_No.': 4}</td>\n",
       "      <td>Payment of benefits will be subject to the Ben...</td>\n",
       "      <td>0.414314</td>\n",
       "      <td>171</td>\n",
       "      <td>4.181331</td>\n",
       "    </tr>\n",
       "    <tr>\n",
       "      <th>0</th>\n",
       "      <td>{'Chunk_No.': 4, 'Page_No.': 'Page 42'}</td>\n",
       "      <td>Member Life Insurance or Coverage During Disab...</td>\n",
       "      <td>0.370618</td>\n",
       "      <td>143</td>\n",
       "      <td>2.996682</td>\n",
       "    </tr>\n",
       "    <tr>\n",
       "      <th>5</th>\n",
       "      <td>{'Page_No.': 'Page 44', 'Chunk_No.': 4}</td>\n",
       "      <td>Dependent's Life Insurance terminates because ...</td>\n",
       "      <td>0.451772</td>\n",
       "      <td>151</td>\n",
       "      <td>2.418811</td>\n",
       "    </tr>\n",
       "    <tr>\n",
       "      <th>6</th>\n",
       "      <td>{'Chunk_No.': 4, 'Page_No.': 'Page 42'}</td>\n",
       "      <td>class eligible for insurance; or (2) after the...</td>\n",
       "      <td>0.455285</td>\n",
       "      <td>141</td>\n",
       "      <td>1.729653</td>\n",
       "    </tr>\n",
       "    <tr>\n",
       "      <th>3</th>\n",
       "      <td>{'Chunk_No.': 4, 'Page_No.': 'Page 43'}</td>\n",
       "      <td>be the Coverage During Disability benefit in f...</td>\n",
       "      <td>0.434435</td>\n",
       "      <td>146</td>\n",
       "      <td>1.011583</td>\n",
       "    </tr>\n",
       "  </tbody>\n",
       "</table>\n",
       "</div>"
      ],
      "text/plain": [
       "                                 Metadatas  \\\n",
       "1  {'Page_No.': 'Page 49', 'Chunk_No.': 4}   \n",
       "0  {'Chunk_No.': 4, 'Page_No.': 'Page 42'}   \n",
       "5  {'Page_No.': 'Page 44', 'Chunk_No.': 4}   \n",
       "6  {'Chunk_No.': 4, 'Page_No.': 'Page 42'}   \n",
       "3  {'Chunk_No.': 4, 'Page_No.': 'Page 43'}   \n",
       "\n",
       "                                           Documents  Distances  IDs  \\\n",
       "1  Payment of benefits will be subject to the Ben...   0.414314  171   \n",
       "0  Member Life Insurance or Coverage During Disab...   0.370618  143   \n",
       "5  Dependent's Life Insurance terminates because ...   0.451772  151   \n",
       "6  class eligible for insurance; or (2) after the...   0.455285  141   \n",
       "3  be the Coverage During Disability benefit in f...   0.434435  146   \n",
       "\n",
       "   Reranked_scores  \n",
       "1         4.181331  \n",
       "0         2.996682  \n",
       "5         2.418811  \n",
       "6         1.729653  \n",
       "3         1.011583  "
      ]
     },
     "execution_count": 269,
     "metadata": {},
     "output_type": "execute_result"
    }
   ],
   "source": [
    "# Return the top 5 results after reranking\n",
    "\n",
    "top_3_rerank = results_df.sort_values(by='Reranked_scores', ascending=False)\n",
    "top_3_rerank[:5]"
   ]
  },
  {
   "cell_type": "code",
   "execution_count": 270,
   "id": "01000761-53ad-46c1-ae88-5aab0ee12a67",
   "metadata": {},
   "outputs": [
    {
     "data": {
      "text/html": [
       "<div>\n",
       "<style scoped>\n",
       "    .dataframe tbody tr th:only-of-type {\n",
       "        vertical-align: middle;\n",
       "    }\n",
       "\n",
       "    .dataframe tbody tr th {\n",
       "        vertical-align: top;\n",
       "    }\n",
       "\n",
       "    .dataframe thead th {\n",
       "        text-align: right;\n",
       "    }\n",
       "</style>\n",
       "<table border=\"1\" class=\"dataframe\">\n",
       "  <thead>\n",
       "    <tr style=\"text-align: right;\">\n",
       "      <th></th>\n",
       "      <th>Documents</th>\n",
       "      <th>Metadatas</th>\n",
       "    </tr>\n",
       "  </thead>\n",
       "  <tbody>\n",
       "    <tr>\n",
       "      <th>1</th>\n",
       "      <td>Payment of benefits will be subject to the Ben...</td>\n",
       "      <td>{'Page_No.': 'Page 49', 'Chunk_No.': 4}</td>\n",
       "    </tr>\n",
       "    <tr>\n",
       "      <th>0</th>\n",
       "      <td>Member Life Insurance or Coverage During Disab...</td>\n",
       "      <td>{'Chunk_No.': 4, 'Page_No.': 'Page 42'}</td>\n",
       "    </tr>\n",
       "    <tr>\n",
       "      <th>5</th>\n",
       "      <td>Dependent's Life Insurance terminates because ...</td>\n",
       "      <td>{'Page_No.': 'Page 44', 'Chunk_No.': 4}</td>\n",
       "    </tr>\n",
       "  </tbody>\n",
       "</table>\n",
       "</div>"
      ],
      "text/plain": [
       "                                           Documents  \\\n",
       "1  Payment of benefits will be subject to the Ben...   \n",
       "0  Member Life Insurance or Coverage During Disab...   \n",
       "5  Dependent's Life Insurance terminates because ...   \n",
       "\n",
       "                                 Metadatas  \n",
       "1  {'Page_No.': 'Page 49', 'Chunk_No.': 4}  \n",
       "0  {'Chunk_No.': 4, 'Page_No.': 'Page 42'}  \n",
       "5  {'Page_No.': 'Page 44', 'Chunk_No.': 4}  "
      ]
     },
     "execution_count": 270,
     "metadata": {},
     "output_type": "execute_result"
    }
   ],
   "source": [
    "top_3_RAG = top_3_rerank[[\"Documents\", \"Metadatas\"]][:3]\n",
    "top_3_RAG"
   ]
  },
  {
   "cell_type": "code",
   "execution_count": 271,
   "id": "e2377c18",
   "metadata": {},
   "outputs": [],
   "source": [
    "# Function to return the first document from the search results for the given query.\n",
    "from sentence_transformers import CrossEncoder\n",
    "def get_first_document(query, results_df):\n",
    "    \"\"\"\n",
    "    Returns the first document from the search results for the given query.\n",
    "    \"\"\"\n",
    "    cross_encoder = CrossEncoder('cross-encoder/ms-marco-MiniLM-L-6-v2')\n",
    "    cross_inputs = [[query, response] for response in results_df['Documents']]\n",
    "    cross_rerank_scores = cross_encoder.predict(cross_inputs)\n",
    "    results_df['Reranked_scores'] = cross_rerank_scores\n",
    "    top_result = results_df.sort_values(by='Reranked_scores', ascending=False)\n",
    "    top_result_RAG = top_result[[\"Documents\", \"Metadatas\"]].iloc[0]\n",
    "    return top_result_RAG"
   ]
  },
  {
   "cell_type": "markdown",
   "id": "e5fba00a",
   "metadata": {},
   "source": [
    "Search layer - Query 1"
   ]
  },
  {
   "cell_type": "code",
   "execution_count": 272,
   "id": "676f464d",
   "metadata": {},
   "outputs": [],
   "source": [
    "from pprint import pprint\n",
    "from IPython.display import display, HTML\n"
   ]
  },
  {
   "cell_type": "code",
   "execution_count": 273,
   "id": "11cf7e32",
   "metadata": {},
   "outputs": [
    {
     "data": {
      "text/html": [
       "<pre style='white-space: pre-wrap'>Total Disability began. Failure to give Written proof within the time specified will not invalidate or reduce any claim if Written proof is given as soon as reasonably possible. Further, if a death benefit is paid under this section of the Group Policy, it will be in place of all other Member Life Insurance benefits provided under this Group Policy. f. Termination (Premium Waiver) This policy has been updated effective January 1, 2014 PART IV - BENEFITS GC 6013 Section A - Member Life Insurance,</pre>"
      ],
      "text/plain": [
       "<IPython.core.display.HTML object>"
      ]
     },
     "metadata": {},
     "output_type": "display_data"
    }
   ],
   "source": [
    "doc = get_first_document(\"what if i fail to pay premium?\", results_df)[\"Documents\"]\n",
    "display(HTML(f\"<pre style='white-space: pre-wrap'>{doc}</pre>\"))"
   ]
  },
  {
   "cell_type": "markdown",
   "id": "611b5a03",
   "metadata": {},
   "source": [
    "Search layer - Query 2"
   ]
  },
  {
   "cell_type": "code",
   "execution_count": 274,
   "id": "96990156",
   "metadata": {},
   "outputs": [
    {
     "data": {
      "text/html": [
       "<pre style='white-space: pre-wrap'>terms of the Prior Policy, to have their premiums waived due to ADL Disability or Total Disability. NOTE: When insurance under this Group Policy replaces coverage under a Prior Policy and the Active Work requirement is waived, any benefits payable will be the lesser of the Scheduled Benefit of this Group Policy or the amount that would have been paid by the Prior Policy had it remained in force. b. Effective Date for Initial Insurance When Proof of Good Health is Required This policy has been</pre>"
      ],
      "text/plain": [
       "<IPython.core.display.HTML object>"
      ]
     },
     "metadata": {},
     "output_type": "display_data"
    }
   ],
   "source": [
    "doc = get_first_document(\"what is the proof needed for showcasing ADL disability?\", results_df)[\"Documents\"]\n",
    "display(HTML(f\"<pre style='white-space: pre-wrap'>{doc}</pre>\"))"
   ]
  },
  {
   "cell_type": "markdown",
   "id": "dda7a057",
   "metadata": {},
   "source": [
    "Search layer - Query 3"
   ]
  },
  {
   "cell_type": "code",
   "execution_count": 275,
   "id": "dd613792",
   "metadata": {},
   "outputs": [
    {
     "data": {
      "text/html": [
       "<pre style='white-space: pre-wrap'>Payment of benefits will be subject to the Beneficiary and Facility of Payment provisions of this PART IV, Section A. Article 6 - Member Life Insurance - Coverage During Disability A Member may be eligible to continue his or her Member Life and Member Accidental Death and Dismemberment Insurance and Dependent Life Insurance coverage during the Member's ADL Disability or Total Disability. a. Coverage Qualification To be qualified for Coverage During Disability, a Member must: (1) become ADL</pre>"
      ],
      "text/plain": [
       "<IPython.core.display.HTML object>"
      ]
     },
     "metadata": {},
     "output_type": "display_data"
    }
   ],
   "source": [
    "doc = get_first_document(\"does this cover death due to not wearing seat belt?\", results_df)[\"Documents\"]\n",
    "display(HTML(f\"<pre style='white-space: pre-wrap'>{doc}</pre>\"))"
   ]
  },
  {
   "cell_type": "markdown",
   "id": "01ce7862",
   "metadata": {},
   "source": [
    "#### Retrieval Augmented Generation (RAG)"
   ]
  },
  {
   "cell_type": "code",
   "execution_count": null,
   "id": "7b630faf-9de5-4d66-8d69-d0c50ba94f07",
   "metadata": {},
   "outputs": [
    {
     "name": "stdout",
     "output_type": "stream",
     "text": [
      "Requirement already satisfied: openai in c:\\users\\lenovo\\anaconda3\\lib\\site-packages (1.109.1)\n",
      "Requirement already satisfied: anyio<5,>=3.5.0 in c:\\users\\lenovo\\anaconda3\\lib\\site-packages (from openai) (4.2.0)\n",
      "Requirement already satisfied: distro<2,>=1.7.0 in c:\\users\\lenovo\\anaconda3\\lib\\site-packages (from openai) (1.9.0)\n",
      "Requirement already satisfied: httpx<1,>=0.23.0 in c:\\users\\lenovo\\anaconda3\\lib\\site-packages (from openai) (0.27.0)\n",
      "Requirement already satisfied: jiter<1,>=0.4.0 in c:\\users\\lenovo\\anaconda3\\lib\\site-packages (from openai) (0.10.0)\n",
      "Requirement already satisfied: pydantic<3,>=1.9.0 in c:\\users\\lenovo\\anaconda3\\lib\\site-packages (from openai) (2.8.2)\n",
      "Requirement already satisfied: sniffio in c:\\users\\lenovo\\anaconda3\\lib\\site-packages (from openai) (1.3.0)\n",
      "Requirement already satisfied: tqdm>4 in c:\\users\\lenovo\\anaconda3\\lib\\site-packages (from openai) (4.66.5)\n",
      "Requirement already satisfied: typing-extensions<5,>=4.11 in c:\\users\\lenovo\\anaconda3\\lib\\site-packages (from openai) (4.15.0)\n",
      "Requirement already satisfied: idna>=2.8 in c:\\users\\lenovo\\anaconda3\\lib\\site-packages (from anyio<5,>=3.5.0->openai) (3.7)\n",
      "Requirement already satisfied: certifi in c:\\users\\lenovo\\anaconda3\\lib\\site-packages (from httpx<1,>=0.23.0->openai) (2024.8.30)\n",
      "Requirement already satisfied: httpcore==1.* in c:\\users\\lenovo\\anaconda3\\lib\\site-packages (from httpx<1,>=0.23.0->openai) (1.0.2)\n",
      "Requirement already satisfied: h11<0.15,>=0.13 in c:\\users\\lenovo\\anaconda3\\lib\\site-packages (from httpcore==1.*->httpx<1,>=0.23.0->openai) (0.14.0)\n",
      "Requirement already satisfied: annotated-types>=0.4.0 in c:\\users\\lenovo\\anaconda3\\lib\\site-packages (from pydantic<3,>=1.9.0->openai) (0.6.0)\n",
      "Requirement already satisfied: pydantic-core==2.20.1 in c:\\users\\lenovo\\anaconda3\\lib\\site-packages (from pydantic<3,>=1.9.0->openai) (2.20.1)\n",
      "Requirement already satisfied: colorama in c:\\users\\lenovo\\anaconda3\\lib\\site-packages (from tqdm>4->openai) (0.4.6)\n"
     ]
    }
   ],
   "source": [
    "# Set the API key\n",
    "!pip install openai\n",
    "from openai import OpenAI\n",
    "\n",
    "# client = OpenAI(\n",
    "#     api_key=\"************************\",\n",
    "#     base_url=\"https://api.perplexity.ai\"\n",
    "# )"
   ]
  },
  {
   "cell_type": "markdown",
   "id": "10848ffa",
   "metadata": {},
   "source": [
    "#### Testing queries"
   ]
  },
  {
   "cell_type": "code",
   "execution_count": 277,
   "id": "f4e795f4-2bba-4351-bf15-d369cc6c4811",
   "metadata": {},
   "outputs": [],
   "source": [
    "# Define the function to generate the response\n",
    "\n",
    "def generate_response(query, results_df):\n",
    "    \"\"\"\n",
    "    Generate a response using GPT-3.5's ChatCompletion based on the user query and retrieved information.\n",
    "    \"\"\"\n",
    "    messages = [\n",
    "                {\"role\": \"system\", \"content\":  \"You are a helpful assistant in the insurance domain who can effectively answer user queries about insurance policies and documents.\"},\n",
    "                {\"role\": \"user\", \"content\": f\"\"\"You are a helpful assistant in the insurance domain who can effectively answer user queries about insurance policies and documents.\n",
    "                                                You have a question asked by the user in '{query}' and you have some search results from a corpus of insurance documents in the dataframe '{top_3_RAG}'. These search results are essentially one page of an insurance document that may be relevant to the user query.\n",
    "\n",
    "                                                The column 'documents' inside this dataframe contains the actual text from the policy document and the column 'metadata' contains the policy name and source page. The text inside the document may also contain tables in the format of a list of lists where each of the nested lists indicates a row.\n",
    "\n",
    "                                                Use the documents in '{top_3_RAG}' to answer the query '{query}'. Frame an informative answer and also, use the dataframe to return the relevant policy names and page numbers as citations.\n",
    "\n",
    "                                                Follow the guidelines below when performing the task.\n",
    "                                                1. Try to provide relevant/accurate numbers if available.\n",
    "                                                2. You don’t have to necessarily use all the information in the dataframe. Only choose information that is relevant.\n",
    "                                                3. If the document text has tables with relevant information, please reformat the table and return the final information in a tabular in format.\n",
    "                                                3. Use the Metadatas columns in the dataframe to retrieve and cite the policy name(s) and page numbers(s) as citation.\n",
    "                                                4. If you can't provide the complete answer, please also provide any information that will help the user to search specific sections in the relevant cited documents.\n",
    "                                                5. You are a customer facing assistant, so do not provide any information on internal workings, just answer the query directly.\n",
    "\n",
    "                                                The generated response should answer the query directly addressing the user and avoiding additional information. If you think that the query is not relevant to the document, reply that the query is irrelevant. Provide the final response as a well-formatted and easily readable text along with the citation. Provide your complete response first with all information, and then provide the citations.\n",
    "                                                \"\"\"},\n",
    "              ]\n",
    "\n",
    "    response = client.chat.completions.create(\n",
    "        model=\"sonar-pro\",\n",
    "        messages=messages,\n",
    "        temperature=0,\n",
    "    )\n",
    "\n",
    "    return response.choices[0].message.content.split('\\n')"
   ]
  },
  {
   "cell_type": "code",
   "execution_count": 278,
   "id": "b264fab3-3611-4ff7-a749-2e8c1289686f",
   "metadata": {},
   "outputs": [],
   "source": [
    "def search(query):\n",
    "\n",
    "  # Set a threshold for cache search\n",
    "  threshold = 0.2\n",
    "\n",
    "  ids = []\n",
    "  documents = []\n",
    "  distances = []\n",
    "  metadatas = []\n",
    "  results_df = pd.DataFrame()\n",
    "\n",
    "  # try to find from cache\n",
    "  cache_results = cache_collection.query(\n",
    "      query_texts=query,\n",
    "      n_results=1\n",
    "  )\n",
    "\n",
    "  # If the distance is greater than the threshold, then return the results from the main collection.\n",
    "  if cache_results['distances'][0] == [] or cache_results['distances'][0][0] > threshold:\n",
    "        # Query the collection against the user query and return the top 10 results\n",
    "        results = collection.query(\n",
    "        query_texts=query,\n",
    "        n_results=10\n",
    "        )\n",
    "\n",
    "        # Store the query in cache_collection as document w.r.t to ChromaDB so that it can be embedded and searched against later\n",
    "        # Store retrieved text, ids, distances and metadatas in cache_collection as metadatas, so that they can be fetched easily if a query indeed matches to a query in cache\n",
    "        Keys = []\n",
    "        Values = []\n",
    "\n",
    "        size = len(results.items())\n",
    "\n",
    "        for key, val in results.items():\n",
    "          if val is None:\n",
    "            continue\n",
    "          for i in range(size):\n",
    "            Keys.append(str(key)+str(i))\n",
    "            Values.append(str(val[0][i]))\n",
    "\n",
    "\n",
    "        cache_collection.add(\n",
    "            documents= [query],\n",
    "            ids = [query],  # Or if you want to assign integers as IDs 0,1,2,.., then you can use \"len(cache_results['documents'])\" as will return the no. of queries currently in the cache and assign the next digit to the new query.\"\n",
    "            metadatas = dict(zip(Keys, Values))\n",
    "        )\n",
    "\n",
    "        #print(\"Not found in cache. Found in main collection.\")\n",
    "\n",
    "        result_dict = {'Metadatas': results['metadatas'][0], 'Documents': results['documents'][0], 'Distances': results['distances'][0], \"IDs\":results[\"ids\"][0]}\n",
    "        results_df = pd.DataFrame.from_dict(result_dict)\n",
    "        return results_df\n",
    "\n",
    "\n",
    "  # If the distance is, however, less than the threshold, you can return the results from cache\n",
    "\n",
    "  elif cache_results['distances'][0][0] <= threshold:\n",
    "        cache_result_dict = cache_results['metadatas'][0][0]\n",
    "\n",
    "        # Loop through each inner list and then through the dictionary\n",
    "        for key, value in cache_result_dict.items():\n",
    "            if 'ids' in key:\n",
    "                ids.append(value)\n",
    "            elif 'documents' in key:\n",
    "                documents.append(value)\n",
    "            elif 'distances' in key:\n",
    "                distances.append(value)\n",
    "            elif 'metadatas' in key:\n",
    "                metadatas.append(value)\n",
    "\n",
    "        #print(\"Found in cache!\")\n",
    "\n",
    "        # Create a DataFrame\n",
    "        return pd.DataFrame({\n",
    "          'IDs': ids,\n",
    "          'Documents': documents,\n",
    "          'Distances': distances,\n",
    "          'Metadatas': metadatas\n",
    "        })"
   ]
  },
  {
   "cell_type": "code",
   "execution_count": 279,
   "id": "7bdeb7f6-1688-4fc4-bbc7-6919704d8f68",
   "metadata": {},
   "outputs": [],
   "source": [
    "def apply_cross_encoder(query, df):\n",
    "  cross_inputs = [[query, response] for response in df['Documents']]\n",
    "  cross_rerank_scores = cross_encoder.predict(cross_inputs)\n",
    "  df['Reranked_scores'] = cross_rerank_scores\n",
    "  return df"
   ]
  },
  {
   "cell_type": "code",
   "execution_count": 280,
   "id": "c937d8d8-555d-4087-b271-0421b640ea56",
   "metadata": {},
   "outputs": [],
   "source": [
    "def get_topn(n, df):\n",
    "  top_3_rerank = df.sort_values(by='Reranked_scores', ascending=False)\n",
    "  return top_3_rerank[[\"Documents\", \"Metadatas\"]][:n]"
   ]
  },
  {
   "cell_type": "markdown",
   "id": "da07f1dd",
   "metadata": {},
   "source": [
    "Generative layer - Query 1"
   ]
  },
  {
   "cell_type": "code",
   "execution_count": 281,
   "id": "86296bbe-199d-47fd-b559-03bb0844a330",
   "metadata": {},
   "outputs": [
    {
     "name": "stdout",
     "output_type": "stream",
     "text": [
      "When you fail to pay your insurance premium, several consequences can occur depending on the type of insurance and specific policy terms.\n",
      "\n",
      "## **Grace Periods and Initial Consequences**\n",
      "\n",
      "Most insurance policies provide a **grace period** after a missed payment, typically ranging from 30 to 90 days depending on your coverage type[1][3][4]. During this time, your policy may remain active, but you'll likely face **late payment fees** and potential impacts to your insurance score, which can affect future premium costs[1].\n",
      "\n",
      "For health insurance with advanced premium tax credits, you receive a **90-day grace period**, but this only applies if you've paid at least one month's premium in the current plan year[2]. During the first 30 days, insurers must continue paying claims, but after that, they can hold off on paying healthcare claims received during the grace period[2].\n",
      "\n",
      "Life insurance policies typically offer a **30-day grace period**, though some contracts may extend this to 60 days[3][4]. For permanent life insurance policies with cash value, the accumulated cash value may automatically cover missed premiums to keep the policy active[5].\n",
      "\n",
      "## **Policy Cancellation and Termination**\n",
      "\n",
      "If payment isn't received by the end of the grace period, insurance companies have the right to **cancel your policy**[1][3]. Once canceled, you may face several challenges:\n",
      "\n",
      "- **Reinstatement requirements**: Companies may require not only the missed payment but also the next payment, and sometimes the full remaining premium[1]\n",
      "- **Evidence of insurability**: For life insurance, you may need to provide proof of insurability for policy reinstatement[4]\n",
      "- **Higher future premiums**: Finding new coverage after cancellation often results in higher premiums or difficulty obtaining insurance[1]\n",
      "\n",
      "## **Long-term Impact**\n",
      "\n",
      "Late payments can negatively affect your **insurance score**, which represents the probability of filing a claim and influences your premium costs with future insurers[1]. This can make obtaining affordable coverage more challenging even after resolving the immediate payment issue.\n",
      "\n",
      "## **Prevention Strategies**\n",
      "\n",
      "To avoid these consequences, consider setting up automatic payments, payment reminders, or contacting your insurance agent immediately if you anticipate payment difficulties[4]. Many insurers are willing to work with policyholders who communicate proactively about financial challenges.\n",
      "\n",
      "**Citations:**\n",
      "- Page 49, Chunk 4\n",
      "- Page 42, Chunk 4  \n",
      "- Page 44, Chunk 4\n"
     ]
    }
   ],
   "source": [
    "query = 'what if i fail to pay premium?'\n",
    "df = search(query)\n",
    "df = apply_cross_encoder(query, df)\n",
    "df = get_topn(3, df)\n",
    "response = generate_response(query, df)\n",
    "print(\"\\n\".join(response))"
   ]
  },
  {
   "cell_type": "markdown",
   "id": "2c0630bd",
   "metadata": {},
   "source": [
    "Generative layer - Query 2"
   ]
  },
  {
   "cell_type": "code",
   "execution_count": 282,
   "id": "8b640dbe-bb8c-4a5d-9cd0-8719bf19bac5",
   "metadata": {},
   "outputs": [
    {
     "name": "stdout",
     "output_type": "stream",
     "text": [
      "To prove an **ADL (Activities of Daily Living) disability** for insurance purposes, you generally need to provide comprehensive **medical documentation** and undergo an **assessment by a licensed healthcare professional**. The typical proof required includes:\n",
      "\n",
      "- **Medical records**: Hospital notes, physical therapy reports, and formal diagnoses documenting your condition and limitations.\n",
      "- **Chronically Ill Certification**: A statement from a physician certifying that you are chronically ill and require substantial assistance with at least two ADLs.\n",
      "- **Claim forms**: Insurer-specific forms (such as PAQ or insured forms) detailing your daily care needs. It is recommended to provide detailed explanations and attach additional pages if necessary.\n",
      "- **Benefit Eligibility Assessment (BEA)**: The insurance company will usually send a nurse or occupational therapist to evaluate your ability to perform each ADL. This assessment may be conducted in person or virtually and will focus on:\n",
      "  - The frequency and type of difficulty you have with each ADL.\n",
      "  - The level of assistance required (hands-on or standby).\n",
      "  - Any safety risks, such as falls or confusion.\n",
      "- **Cognitive assessment** (if applicable): If cognitive impairment is suspected, standardized tests like the Mini-Mental State Exam (MMSE) or Montreal Cognitive Assessment (MoCA) may be used to determine if substantial supervision is needed.\n",
      "\n",
      "**Key points:**\n",
      "- The insurer’s evaluator is not independent and may minimize your needs, so thorough and precise documentation is critical.\n",
      "- Standby assistance (not just hands-on help) should be documented if it is necessary for your safety.\n",
      "- Vague or incomplete submissions can lead to delays or denials.\n",
      "\n",
      "If you are searching for these requirements in your policy, look for sections on \"Benefit Eligibility Assessment,\" \"ADL requirements,\" or \"Claim Documentation\" in your insurance documents[3].\n",
      "\n",
      "**Citations:**  \n",
      "- ADL assessment and documentation requirements: Sandstone Law Group, Page 49, Chunk 4[3].\n"
     ]
    }
   ],
   "source": [
    "query = 'what is the proof needed for showcasing ADL disability?'\n",
    "df = search(query)\n",
    "df = apply_cross_encoder(query, df)\n",
    "df = get_topn(3, df)\n",
    "response = generate_response(query, df)\n",
    "print(\"\\n\".join(response))"
   ]
  },
  {
   "cell_type": "markdown",
   "id": "fdd7a8ec",
   "metadata": {},
   "source": [
    "Generative layer - Query 3"
   ]
  },
  {
   "cell_type": "code",
   "execution_count": 283,
   "id": "fe3f8c73-fa7b-44c1-9b41-f2ea43fa8d69",
   "metadata": {},
   "outputs": [
    {
     "name": "stdout",
     "output_type": "stream",
     "text": [
      "Based on the insurance policy documents provided, I cannot find specific information about coverage for death due to not wearing a seatbelt. The documents contain general information about life insurance benefits and termination conditions, but they do not explicitly address seatbelt-related exclusions or coverage limitations.\n",
      "\n",
      "## What the Documents Show\n",
      "\n",
      "The available policy excerpts discuss:\n",
      "- Payment of benefits subject to benefit provisions\n",
      "- Member Life Insurance coverage during disability periods\n",
      "- Dependent's Life Insurance termination conditions\n",
      "\n",
      "However, none of these sections specifically mention seatbelt use as a factor affecting death benefit coverage.\n",
      "\n",
      "## Important Considerations\n",
      "\n",
      "While I cannot provide a definitive answer based on the available document excerpts, insurance policies typically contain detailed exclusions and conditions that may affect coverage. To get a complete answer about seatbelt-related coverage, you should:\n",
      "\n",
      "1. **Review the full policy exclusions section** - This would typically outline circumstances where coverage might be limited or denied\n",
      "2. **Check the definitions section** - This may clarify what constitutes covered vs. non-covered deaths\n",
      "3. **Look for accident-related provisions** - These sections often detail how accidental deaths are handled\n",
      "\n",
      "## Next Steps\n",
      "\n",
      "I recommend reviewing the complete policy document, particularly focusing on:\n",
      "- Exclusions and limitations sections\n",
      "- Accidental death benefit provisions\n",
      "- General conditions of coverage\n",
      "\n",
      "You may also want to contact your insurance provider directly for clarification on this specific scenario.\n",
      "\n",
      "**Citations:**\n",
      "- Page 49, Chunk 4\n",
      "- Page 42, Chunk 4  \n",
      "- Page 44, Chunk 4\n"
     ]
    }
   ],
   "source": [
    "query = 'does this cover death due to not wearing seat belt?'\n",
    "df = search(query)\n",
    "df = apply_cross_encoder(query, df)\n",
    "df = get_topn(3, df)\n",
    "response = generate_response(query, df)\n",
    "print(\"\\n\".join(response))"
   ]
  }
 ],
 "metadata": {
  "kernelspec": {
   "display_name": "Python 3 (ipykernel)",
   "language": "python",
   "name": "python3"
  },
  "language_info": {
   "codemirror_mode": {
    "name": "ipython",
    "version": 3
   },
   "file_extension": ".py",
   "mimetype": "text/x-python",
   "name": "python",
   "nbconvert_exporter": "python",
   "pygments_lexer": "ipython3",
   "version": "3.12.7"
  }
 },
 "nbformat": 4,
 "nbformat_minor": 5
}
